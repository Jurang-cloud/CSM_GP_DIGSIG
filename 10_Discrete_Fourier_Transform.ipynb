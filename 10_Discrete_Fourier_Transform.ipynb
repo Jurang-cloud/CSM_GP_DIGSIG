{
 "cells": [
  {
   "cell_type": "code",
   "execution_count": 1,
   "metadata": {},
   "outputs": [
    {
     "data": {
      "text/html": [
       "<script>\n",
       "code_show=true; \n",
       "function code_toggle() {\n",
       " if (code_show){\n",
       " $('div.input').hide();\n",
       " } else {\n",
       " $('div.input').show();\n",
       " }\n",
       " code_show = !code_show\n",
       "} \n",
       "$( document ).ready(code_toggle);\n",
       "</script>\n",
       "The raw code for this Jupyter notebook is by default hidden for easier reading.\n",
       "To toggle on/off the raw code, click <a href=\"javascript:code_toggle()\">here</a>.\n",
       "<style>\n",
       ".output_png {\n",
       "    display: table-cell;\n",
       "    text-align: center;\n",
       "    vertical-align: middle;\n",
       "}\n",
       "</style>\n"
      ],
      "text/plain": [
       "<IPython.core.display.HTML object>"
      ]
     },
     "execution_count": 1,
     "metadata": {},
     "output_type": "execute_result"
    }
   ],
   "source": [
    "from IPython.display import HTML\n",
    "\n",
    "import numpy as np\n",
    "import matplotlib.pyplot as plt\n",
    "import math as m\n",
    "import warnings\n",
    "warnings.filterwarnings('ignore')\n",
    "# . . Section for general function definitions\n",
    "def label(s):\n",
    "    plt.title(s,size=20);plt.xlabel('k',size=16); plt.ylabel('Amplitude',size=16)\n",
    "    \n",
    "HTML('''<script>\n",
    "code_show=true; \n",
    "function code_toggle() {\n",
    " if (code_show){\n",
    " $('div.input').hide();\n",
    " } else {\n",
    " $('div.input').show();\n",
    " }\n",
    " code_show = !code_show\n",
    "} \n",
    "$( document ).ready(code_toggle);\n",
    "</script>\n",
    "The raw code for this Jupyter notebook is by default hidden for easier reading.\n",
    "To toggle on/off the raw code, click <a href=\"javascript:code_toggle()\">here</a>.\n",
    "<style>\n",
    ".output_png {\n",
    "    display: table-cell;\n",
    "    text-align: center;\n",
    "    vertical-align: middle;\n",
    "}\n",
    "</style>\n",
    "''')"
   ]
  },
  {
   "cell_type": "markdown",
   "metadata": {},
   "source": [
    "![title](data/TITLE.png)"
   ]
  },
  {
   "cell_type": "markdown",
   "metadata": {},
   "source": [
    "### <h1><center>Module 10: Discrete Fourier Series and Discrete Fourier Transform</center></h1>\n",
    "\n",
    "Now that we have covered the digital sampling theorem, we are better equipped to understand what is going on \"under the hood\" when we have been applying the (discrete or fast) Fourier Transform.  \n",
    "\n",
    "You'll recall that when we looked at **continuous** functions:\n",
    "\n",
    "1. The Fourier Series of a **periodic continuous** function has a **discrete** Fourier representation ($k\\Delta \\omega$);\n",
    "\n",
    "2. The Fourier Transform of a **continuous** function has a **continuous** Fourier representation ($\\omega$)\n",
    "\n",
    "We'll now look at two examples of **discrete** sequences and observe that:\n",
    "\n",
    "3. The **discrete** Fourier Series (DFS) of a **periodic discrete** sequence has a **periodic discrete** Fourier representation.\n",
    "\n",
    "4. The **discrete** Fourier Transform (DFT) of a **discrete** sequences has a **discrete** Fourier representation.\n",
    "\n",
    "We will start first with the DFS, which represents an extension of the continuous-time Fourier Series.  This will motivate our analysis of the DFT.  We will then look at the DFTs of a number of short filters."
   ]
  },
  {
   "cell_type": "markdown",
   "metadata": {},
   "source": [
    "# Discrete Fourier Series (DFS)\n",
    "\n",
    "The **discrete Fourier Series** (DFS) is related to a **continuous Fourier Series** (CFS) in that it is a repetitive signal with a fixed interval of repetition.  However, whereas a time-series CFS has a periodicity of duration $T$ seconds, a DFS is a sequence of numbers with a periodicity every $N$ values. \n",
    "\n",
    "Let $\\tilde{x}[n]$ be a **periodic sequence** with period $N$,\n",
    "\n",
    "$$ \\tilde{x}[n] = \\tilde{x}[n+N], \\tag{1a}$$\n",
    "\n",
    "where $n=[\\dots,-2,-1,0,1,2,\\dots]$, and we use a tilde symbol to recognize that the time series is **periodic**. \n",
    "This function can thus describe an infinitely repeating sequence via the following:\n",
    "\n",
    "$$ \\tilde{x}[n] = \\sum_{k=-\\infty}^{\\infty} x[n-Nk] \\tag{1b}$$\n",
    "\n",
    "where $x[n]$ represents a **single period** of the sequence with index ranging from $n=0,N-1$.  "
   ]
  },
  {
   "cell_type": "code",
   "execution_count": 2,
   "metadata": {},
   "outputs": [
    {
     "data": {
      "image/png": "[encoded data removed]",
      "text/plain": [
       "<Figure size 720x360 with 2 Axes>"
      ]
     },
     "metadata": {
      "needs_background": "light"
     },
     "output_type": "display_data"
    }
   ],
   "source": [
    "n = np.array(range(5))\n",
    "xn = np.array([2,4,6,8,10])\n",
    "ntilde = np.arange(-10,15)\n",
    "xtilde = np.concatenate((xn,xn,xn,xn,xn),axis=0)\n",
    "\n",
    "plt.figure(figsize=(10,5))\n",
    "plt.subplot(211)\n",
    "plt.stem(n,xn)\n",
    "plt.xlabel('Index')\n",
    "plt.title(r'$x[n]$')\n",
    "plt.xlim(-10.5,14.5)\n",
    "\n",
    "plt.subplot(212)\n",
    "plt.stem(ntilde,xtilde)\n",
    "plt.xlabel('Index')\n",
    "plt.title(r'$\\tilde{x}[n]$')\n",
    "plt.xlim(-10.5,14.5)\n",
    "\n",
    "plt.tight_layout();plt.show()"
   ]
  },
  {
   "cell_type": "markdown",
   "metadata": {},
   "source": [
    "**Figure 1. Illustration of the difference between the base sequence $x[n]$ (upper panel) and the periodic sequence $\\tilde{x}[n]$ (lower panel) formed by an infinite number of repetitions of the base sequence.** \n",
    "\n",
    "Although strictly speaking $\\tilde{x}[n]$ does not have a Fourier Transform because it is not absolutely summable (and therefore has an infinite amount of energy), it can be expressed in terms of a discrete Fourier series over a single period (i.e., $k=0,N-1$):\n",
    "\n",
    "<div class=\"alert alert-info\" role=\"alert\">\n",
    "$$ \\tilde{x}[n] = \\frac{1}{N} \\sum_{k=0}^{N-1} \\tilde{X}[k]e^{i2\\pi k n/N}, \\quad n=-\\infty,\\infty\\tag{2}$$\n",
    "</div>\n",
    "\n",
    "where $n$ is the \"time\" variable and $k$ is the \"frequency\" variable. Note that whereas the index $\\tilde{X}[k]$ ranges $k=0,N-1$, the index on $\\tilde{x}[n]$ ranges $n=-\\infty,\\infty$."
   ]
  },
  {
   "cell_type": "markdown",
   "metadata": {},
   "source": [
    "# The Inverse DFS Transform\n",
    "\n",
    "To make the connection to what you have learned earlier in the course on the (continuous) Fourier Series, you might recall that the **reconstruction** of periodic function $x(t)$ was given by:\n",
    "\n",
    "$$ x(t) = \\sum_{k=-\\infty}^{\\infty} C_k {\\rm e}^{i k \\omega_0 t}. \\tag{3}$$\n",
    "\n",
    "In this case we are constructing the **periodic continuous** function $x(t)$ by summing over a potentially infinite number of coefficients $C_k$ weighted by the Fourier kernel ${\\rm e}^{i k \\omega_0 t}$ where $t$ is a continuous variable. \n",
    "\n",
    "Let's start the connection between the discrete and continuous Fourier Series by replacing the fundamental angular frequency in equation 3 with $\\omega_0 = \\frac{2\\pi}{T}$ yields:\n",
    "\n",
    "$$ x(t) = \\sum_{k=-\\infty}^{\\infty} C_k {\\rm e}^{i 2\\pi k t/T}. \\tag{4a}$$\n",
    "\n",
    "The final substitutions are leading to equation 2 are: \n",
    "\n",
    "* (1) replacing $\\frac{t}{T}\\rightarrow\\frac{n}{N}$; \n",
    "$$ x(t) = \\sum_{k=-\\infty}^{\\infty} C_k {\\rm e}^{i 2\\pi k n/N}. \\tag{4b}$$\n",
    "* (2) recognizing that we only need to consider a single period (i.e., $0\\le n\\le N-1$) because our frequency domain response will be periodic with period $N$; \n",
    "$$ x(t) = \\sum_{k=0}^{N-1} C_k {\\rm e}^{i 2\\pi k n/N}. \\tag{4c}$$\n",
    "* (3) replacing continuous function $x(t)$ with discrete sequence $\\tilde{x}[n]$; and \n",
    "$$ \\tilde{x}[n] = \\sum_{k=0}^{N-1}  C_k {\\rm e}^{i 2\\pi k n/N}. \\tag{4c}$$\n",
    "* (4) exchanging our potentially infinite number of discrete $C_k$ coefficients (which have an implicit $\\frac{1}{T}$ weighting) with a similarly discrete $N$-point sequence $\\tilde{X}[n]$ (that has an explicit $\\frac{1}{N}$ weighting).  $$ \\tilde{x}[n] = \\frac{1}{N}\\sum_{k=0}^{N-1}  \\tilde{X}[k]{\\rm e}^{i 2\\pi k n/N}. \\tag{5}$$\n",
    "\n",
    "\n",
    "The last point is a consequence of only needing to represent the signal at discrete frequencies up to the Nyquist frequency (unlike a continuous signal that requires summation over an infinite number of coefficients for an exact represention).  Essentially, this is a decomposition of $\\tilde{x}[n]$ into a sum of $N$ harmonically related exponentials weighted by their Fourier coefficients $\\tilde{X}[k]$.  "
   ]
  },
  {
   "cell_type": "markdown",
   "metadata": {},
   "source": [
    "# The Forward DFS Transform\n",
    "\n",
    "To specify the forward DFS transform, one may multiply both sides of equation 5 by \n",
    "$e^{-i2\\pi l n/N}$ and sum over a full period:\n",
    "\n",
    "$$ \\tilde{x}[n] e^{-i2\\pi l n/N} = \\frac{1}{N} \\sum_{k=0}^{N-1} \\tilde{X}[k]e^{i2\\pi (k-l) n/N}. \\tag{6} $$\n",
    "\n",
    "We can use the fact that complex exponentials are orthogonal \n",
    "\n",
    "$$\\sum_{n=0}^{N-1} e^{i2\\pi (k-l) n/N}\n",
    "=\n",
    "N \\delta[k-l]\n",
    "=\n",
    "\\left\\{\n",
    "\\begin{array}{c}\n",
    "N, \\quad k=l \\\\\n",
    "0, \\quad k\\ne l\n",
    "\\end{array}\n",
    "\\right.\n",
    "\\tag{7a}\n",
    "$$\n",
    "\n",
    "to simplify this expression. \n",
    "\n",
    "<div class=\"alert alert-success\" role=\"alert\">\n",
    "\n",
    "**Complex Exponential Orthogonality**: \n",
    "\n",
    "To demonstrate this let's examine the case where $N=4$:\n",
    "\n",
    "$$\n",
    "\\sum_{n=0}^{N-1} e^{i2\\pi (k-l) n/N}\n",
    "= \n",
    "\\sum_{n=0}^{3} e^{i2\\pi (k-l) n/4}\n",
    "=\n",
    "e^{0}+e^{i\\pi (k-l) /2}+e^{i\\pi (k-l)}+e^{i3\\pi (k-l)/2}\n",
    "=\n",
    "1+e^{i\\pi (k-l)/2}+e^{i\\pi (k-l)}+e^{i3\\pi (k-l)/2} \\tag{7b}\n",
    "$$\n",
    "\n",
    "Now if $k=l$ then the following is true:\n",
    "\n",
    "$$\\sum_{n=0}^{3} e^{i2\\pi (k-l) n/4}=\\left.1+e^{i\\pi (k-l)/2}+e^{i\\pi (k-l)}+e^{i3\\pi (k-l)/2}\\right|_{k=l} = 1 + 1 + 1 + 1=4=N \\tag{7c}$$\n",
    "\n",
    "Now if, say, $k=l+1$ then the following is true:\n",
    "\n",
    "$$\\sum_{n=0}^{3} e^{i2\\pi (k-l) n/4}=\\left.1+e^{i\\pi (k-l)/2}+e^{i\\pi (k-l)}+e^{i3\\pi (k-l)/2}\\right|_{k=l+1} = 1+e^{i\\pi/2}+e^{i\\pi}+e^{i3\\pi/2}=1+i-1-i=0. \\tag{7d}$$\n",
    "\n",
    "One can show this to be generally true for any value of $N$ and $k\\neq l$.\n",
    "</div>\n",
    "\n",
    "Let's now sum equation 6 in range $n=0,N-1$ to extract $\\tilde{X}[k]$ at for every $k$ value.\n",
    "\n",
    "$$ \n",
    "\\begin{eqnarray}\n",
    "\\sum_{n=0}^{N-1} \\tilde{x}[n] e^{-i2\\pi l n/N} \n",
    "&=& \\frac{1}{N} \\sum_{n=0}^{N-1} \\sum_{k=0}^{N-1} \\tilde{X}[k]e^{i2\\pi (k-l) n/N} \\tag{8a}\\\\\n",
    "&=& \\frac{1}{N} \\sum_{k=0}^{N-1} \\tilde{X}[k] \\left(\\sum_{n=0}^{N-1}  e^{i2\\pi (k-l) n/N}\\right) \\tag{8c}\\\\\n",
    "&=& \\frac{1}{N} \\sum_{k=0}^{N-1} \\tilde{X}[k] N \\delta[k-l] \\tag{8d} \\\\\n",
    "&=&  \\tilde{X}[l]. \\tag{8e} \n",
    "\\end{eqnarray}\n",
    "$$\n",
    "\n",
    "Switching back from dummy index $l$ to $k$ on the left hand side of equation 8a and the right hand side of equation 8e, the above result shows that the Fourier coefficients of the DFS transform are given by:\n",
    "\n",
    "<div class=\"alert alert-info\" role=\"alert\">\n",
    "$$\n",
    "\\tilde{X}[k] = \\sum_{n=0}^{N-1} \\tilde{x}[n] e^{-i2\\pi k n/N}, \\quad k=-\\infty,\\infty \\tag{9}\n",
    "$$\n",
    "</div>\n",
    "\n",
    "where the index of $\\tilde{X}[k]$ ranges between $k=-\\infty,\\infty$ because this is an infinitely repeating sequence.  Note that the DFS coefficients are similarly periodic with period N:\n",
    "\n",
    "$$\\tilde{X}[k]=\\tilde{X}[k+N], \\quad k\\in I. \\tag{10} $$\n",
    "\n",
    "Based on the equations above we write\n",
    "\n",
    "$$\\tilde{x}[n] \\overset{DFS}{\\Longleftrightarrow}\\tilde{X}[k] \\tag{11}$$\n",
    "\n",
    "to illustrate the duality of the discrete Fourier Series."
   ]
  },
  {
   "cell_type": "markdown",
   "metadata": {},
   "source": [
    "## Example 1\n",
    "\n",
    "**Q:** Let us find a discrete Fourier series representation for the periodic sequence\n",
    "\n",
    "$$ \\tilde{x}[n] = \\sum_{k=-\\infty}^{\\infty} x[n-10k],\\quad n=-\\infty,\\infty \\tag{12}$$\n",
    "\n",
    "where $N=10$ and our base sequence $x[n]$ is given by:\n",
    "\n",
    "$$ x[n] = \n",
    "\\left\\{\n",
    "\\begin{array}{cc}\n",
    "1, & 0 \\le n < 5 \\\\\n",
    "0, & 5 \\le n < 10 \\\\\n",
    "\\end{array}\n",
    "\\right. .\n",
    "\\tag{13}\n",
    "$$\n",
    "\n",
    "**A:** Note that $\\tilde{x}[n]$ is periodic with a period $N=10$.  Therefore, the DFS coefficient are given by equation 2 above:\n",
    "\n",
    "$$\n",
    "\\tilde{X}[k] = \\sum_{n=0}^{9} \\tilde{x}[n] e^{-i2\\pi k n/10}  = \\sum_{n=0}^{9} \\tilde{x}[n] e^{-i\\pi k n/5} \\tag{14} \n",
    "$$\n",
    "\n",
    "Substituting in $x[n]$ for $\\tilde{x}[n]$ (because they are equivalent over the full period N  between $n=0,9$) yields:\n",
    "\n",
    "$$\n",
    "\\tilde{X}[k] = \\sum_{n=0}^{9} x[n] e^{-i\\pi k n/5} = \\sum_{n=0}^{4} e^{-i\\pi k n/5}  \\tag{15}\n",
    "$$\n",
    "\n",
    "where in equation 15 we used the fact that $x[n]=1$ between $n=0,4$ and is zero otherwise.  Recognizing that we can pull out a power of $^n$, we can write:\n",
    "\n",
    "$$\n",
    "\\tilde{X}[k] = \\sum_{n=0}^{4} \\left(e^{-i\\pi k/5}\\right)^n, \\tag{16}\n",
    "$$\n",
    "\n",
    "which is a [geometric series](https://en.wikipedia.org/wiki/Geometric_series) where $r=e^{-i\\pi k/5}$.  A geometric series has the following sum:\n",
    "\n",
    "$$S_n = \\sum_{n=0}^{N-1} r^n = \\frac{1-r^N}{1-r}, \\tag{17}$$\n",
    "\n",
    "which allows us to write\n",
    "\n",
    "$$\n",
    "\\tilde{X}[k] = \\sum_{n=0}^{4} \\left(e^{-i\\pi k/5}\\right)^n = \\frac{1-e^{-i\\pi k}}{1-e^{-i\\pi k/5}} \n",
    "=\n",
    "\\left\\{\n",
    "\\begin{array}{cc}\n",
    "5 & k=0\\\\\n",
    "\\frac{2}{1-e^{-i\\pi k/5}} & k\\,\\mathrm{odd} \\\\\n",
    "0 & k\\,\\mathrm{even} \\\\\n",
    "\\end{array}\n",
    "\\right., \\quad k=-\\infty,\\infty \\tag{18}\n",
    "$$\n",
    "\n",
    "The values for $k=0$ (or $kN$) can be found by inspecting the middle term, which in this case turns out to be the summation over $x[n]$ coefficients (i.e., 5 ones).  The DFS for all other values of $k$ may be found according to equation 3 above.  Here are the coefficients, as well as a graphical representation of their real and imaginary components.\n",
    "\n",
    "Let's look at the answer graphically for a single period:"
   ]
  },
  {
   "cell_type": "code",
   "execution_count": 3,
   "metadata": {},
   "outputs": [
    {
     "name": "stdout",
     "output_type": "stream",
     "text": [
      "[5.00000000e+00+0.j         1.00000000e+00-3.07768354j\n",
      " 2.22044605e-16+0.j         1.00000000e+00-0.72654253j\n",
      " 2.22044605e-16+0.j         1.00000000e+00+0.j\n",
      " 2.22044605e-16+0.j         1.00000000e+00+0.72654253j\n",
      " 2.22044605e-16+0.j         1.00000000e+00+3.07768354j]\n"
     ]
    },
    {
     "data": {
      "image/png": "[encoded data removed]",
      "text/plain": [
       "<Figure size 1152x288 with 2 Axes>"
      ]
     },
     "metadata": {
      "needs_background": "light"
     },
     "output_type": "display_data"
    }
   ],
   "source": [
    "# . . Define 10 element array and take fft\n",
    "x=np.array([1,1,1,1,1,0,0,0,0,0])\n",
    "X = np.fft.fft(x);print(X)\n",
    "\n",
    "plt.figure(figsize=(16, 4))\n",
    "plt.subplot(121);plt.stem(np.arange(0,10,1),X.real);label('(a) Coefficients - Real Component')\n",
    "plt.subplot(122);plt.stem(np.arange(0,10,1),X.imag);label('(b) Coefficients - Imag Component')\n",
    "plt.tight_layout(); plt.show()"
   ]
  },
  {
   "cell_type": "markdown",
   "metadata": {},
   "source": [
    "**Figure 1. The real (a) and imaginary (b) coefficients of the discrete Fourier series in equation 18.**\n",
    "\n",
    "# Simplifying Notation\n",
    "\n",
    "To simplify notation one often sees the $W_N$ notation that uses the following definition:\n",
    "\n",
    "<div class=\"alert alert-info\" role=\"alert\">\n",
    "$$W_N = e^{-i2\\pi/N}. \\tag{19}$$\n",
    "</div>\n",
    "\n",
    "Thus, we can write:\n",
    "\n",
    "$$\\left(W_N\\right)^{kn} = W_N^{kn} = e^{-i2\\pi kn/N} \\tag{20}$$\n",
    "\n",
    "<div class=\"alert alert-info\" role=\"alert\">\n",
    "Using this notation the forward and inverse DFS operations may be written:\n",
    "\n",
    "$$\n",
    "\\tilde{X}[k]= \\sum_{n=0}^{N-1} \\tilde{x}[n] e^{-i2\\pi nk/N} = \\sum_{n=0}^{N-1} \\tilde{x}[n] W_N^{nk}, \\quad k=-\\infty,\\infty \\tag{21}\n",
    "$$\n",
    "\n",
    "and\n",
    "\n",
    "$$\n",
    " \\tilde{x}[n] = \\frac{1}{N}\\sum_{n=0}^{N-1} \\tilde{X}[k]  e^{i2\\pi nk/N} = \\frac{1}{N}\\sum_{n=0}^{N-1} \\tilde{X}[k]  W_N^{-nk}, \\quad n=-\\infty,\\infty \\tag{22}\n",
    "$$\n",
    "\n",
    "respectively.\n",
    "</div>"
   ]
  },
  {
   "cell_type": "markdown",
   "metadata": {},
   "source": [
    "### Exercises\n",
    "\n",
    "If $W_N = e^{-i2\\pi/N}$, what do the following equal?\n",
    "\n",
    "* $W_4^{0}$\n",
    "\n",
    "* $W_4^{2}$\n",
    "\n",
    "* $W_4^{4p}$ where $p$ is integer.\n",
    "\n",
    "* $W_4^{4p+2}$ where $p$ is integer."
   ]
  },
  {
   "cell_type": "markdown",
   "metadata": {},
   "source": [
    "### Exercises\n",
    "\n",
    "If $W_N = e^{-i2\\pi/N}$, what do the following equal?\n",
    "\n",
    "* $W_4^{0}$\n",
    "\n",
    "$W_4^{0} = e^{-i2\\pi 0/N}=e^{-i2\\pi 0/4}=e^{-i 0}=1$. \n",
    "\n",
    "* $W_4^{2}$\n",
    "\n",
    "$W_4^{2} = e^{-i2\\pi 2/N}=e^{-i2\\pi 2/4}=e^{-i\\pi }=-1$\n",
    "\n",
    "* $W_4^{4p}$ where $p$ is integer.\n",
    "\n",
    "\n",
    "$W_4^{4p} = e^{-i2\\pi 4p/N}=e^{-i2\\pi 4p /4}=e^{-i 2\\pi p}=1$ for all p integers.\n",
    "\n",
    "\n",
    "* $W_4^{4p+2}$ where $p$ is integer.\n",
    "\n",
    "\n",
    "$W_4^{4p+2} = e^{-i2\\pi (4p+2)/N}=e^{-i2\\pi (4p+2) /4}=e^{-i 2\\pi p - i2\\pi/2}=-e^{i 2\\pi p}=-1$ for all p integers.\n",
    "\n"
   ]
  },
  {
   "cell_type": "markdown",
   "metadata": {},
   "source": [
    "# Example 2\n",
    "\n",
    "**Q:** Find the DFS expansion of the sequence\n",
    "\n",
    "$$\\tilde{x}[n] = A \\,\\mathrm{cos}\\left(\\frac{n\\pi}{2}\\right), \\quad n=-\\infty,\\infty. \\tag{23}$$\n",
    "\n",
    "**A:** Because $\\tilde{x}[n]$ is periodic with $N=4$ (i.e., $\\tilde{x}[n]=[A,0,-A,0]$), the DFS coefficients may be found by evaluating the sum\n",
    "\n",
    "$$\n",
    "\\tilde{X}[k] = \\sum_{n=0}^{3} \\tilde{x}[n] W_4^{nk}, \\quad k=-\\infty,\\infty \\tag{24}\n",
    "$$\n",
    "\n",
    "Let's look at the different $n$ values subsituting in the values of $\\tilde{x}[n]$\n",
    "\n",
    "$$\n",
    "\\begin{eqnarray}\n",
    "\\tilde{X}[0] &=& A W_4^{0*0} -  A W_4^{2*0} &=& A W_4^{0} -  A W_4^{0} & = 0  \\\\\n",
    "\\tilde{X}[1] &=& A W_4^{0*1} -  A W_4^{2*1} &=& A W_4^{0} -  A W_4^{2} & = 2A \\\\\n",
    "\\tilde{X}[2] &=& A W_4^{0*2} -  A W_4^{2*2} &=& A W_4^{0} -  A W_4^{4} & = 0  \\\\\n",
    "\\tilde{X}[3] &=& A W_4^{0*3} -  A W_4^{2*3} &=& A W_4^{0} -  A W_4^{6} & = 2A \\\\\n",
    "\\end{eqnarray}\n",
    "\\tag{25}\n",
    "$$\n",
    "\n",
    "where we have used $W_4^{0} = e^{i2\\pi 0/N}=1$ and $W_4^{2} = e^{i \\pi}=- 1$, as well as\n",
    "for any integer $p$: $W_4^{4p} =  e^{i2\\pi}=1$ and $W_4^{4p+2} =  e^{i\\pi}=-1$.  Below is a print out of the coefficients, as well as stem graphs of the real and imaginary components. Let's look at these graphically for a single period assuming $A=1$:"
   ]
  },
  {
   "cell_type": "code",
   "execution_count": 4,
   "metadata": {},
   "outputs": [
    {
     "name": "stdout",
     "output_type": "stream",
     "text": [
      "[0.+0.j 2.+0.j 0.+0.j 2.+0.j]\n"
     ]
    },
    {
     "data": {
      "image/png": "[encoded data removed]",
      "text/plain": [
       "<Figure size 1152x288 with 2 Axes>"
      ]
     },
     "metadata": {
      "needs_background": "light"
     },
     "output_type": "display_data"
    }
   ],
   "source": [
    "# . . Example with A=1\n",
    "x1=np.array([1,0,-1,0])\n",
    "X1 = np.fft.fft(x1);print(X1)\n",
    "\n",
    "plt.figure(figsize=(16, 4))\n",
    "plt.subplot(121);plt.stem(X1.real);label('Coefficients - Real Component')\n",
    "plt.subplot(122);plt.stem(X1.imag);label('Coefficients - Imag Component')\n",
    "plt.tight_layout(); plt.show()"
   ]
  },
  {
   "cell_type": "markdown",
   "metadata": {},
   "source": [
    "**Figure 2. The real (a) and imaginary (b) coefficients of the discrete Fourier series in equation 25 assuming $A=1$.**\n",
    "\n",
    "\n",
    "# Matrix Notation\n",
    "\n",
    "By inspecting the above example, you might notice that the operations can be written in using **matrix notation** (i.e., $\\left[W_N^{nk}\\right]$).  Let's do just that here:\n",
    "\n",
    "$$\n",
    "\\begin{eqnarray}\n",
    "\\left(\n",
    "\\begin{array}{c}\n",
    "\\tilde{X}[0] \\\\\n",
    "\\tilde{X}[1]\\\\\n",
    "\\tilde{X}[2]\\\\\n",
    "\\tilde{X}[3]\\\\\n",
    "\\end{array}\n",
    "\\right)\n",
    "&=&\n",
    "\\left(\n",
    "\\begin{array}{c}\n",
    "W_4^{0*0} & W_4^{1*0} & W_4^{2*0} & W_4^{3*0}\\\\\n",
    "W_4^{0*1} & W_4^{1*1} & W_4^{2*1} & W_4^{3*1}\\\\\n",
    "W_4^{0*2} & W_4^{1*2} & W_4^{2*2} & W_4^{3*2}\\\\\n",
    "W_4^{0*3} & W_4^{1*3} & W_4^{2*3} & W_4^{3*3}\\\\\n",
    "\\end{array}\n",
    "\\right)\n",
    "\\left(\n",
    "\\begin{array}{c}\n",
    "\\tilde{x}[0] \\\\\n",
    "\\tilde{x}[1] \\\\\n",
    "\\tilde{x}[2] \\\\\n",
    "\\tilde{x}[3] \\\\\n",
    "\\end{array}\n",
    "\\right) \n",
    "=\n",
    "\\left(\n",
    "\\begin{array}{c}\n",
    "W_4^{0} & W_4^{0} & W_4^{0} & W_4^{0}\\\\\n",
    "W_4^{0} & W_4^{1} & W_4^{2} & W_4^{3}\\\\\n",
    "W_4^{0} & W_4^{2} & W_4^{4} & W_4^{6}\\\\\n",
    "W_4^{0} & W_4^{3} & W_4^{6} & W_4^{9}\\\\\n",
    "\\end{array}\n",
    "\\right)\n",
    "\\left(\n",
    "\\begin{array}{c}\n",
    "\\tilde{x}[0] \\\\\n",
    "\\tilde{x}[1] \\\\\n",
    "\\tilde{x}[2] \\\\\n",
    "\\tilde{x}[3] \\\\\n",
    "\\end{array}\n",
    "\\right) \n",
    "\\\\\n",
    "\\,\n",
    "&\n",
    "=\n",
    "&\n",
    "\\left(\n",
    "\\begin{array}{cccc}\n",
    " 1 & 1 & 1 & 1 \\\\\n",
    " 1 & e^{\\frac{-i \\pi }{2}} & e^{-i \\pi } & e^{\\frac{-3 i \\pi }{2}} \\\\\n",
    " 1 & e^{-i \\pi } & e^{-2 i \\pi } & e^{-3 i \\pi } \\\\\n",
    " 1 & e^{\\frac{-3 i \\pi }{2}} & e^{-3 i \\pi } & e^{\\frac{-9 i \\pi }{2}} \\\\\n",
    "\\end{array}\n",
    "\\right)\n",
    "\\left(\n",
    "\\begin{array}{c}\n",
    "\\tilde{x}[0] \\\\\n",
    "\\tilde{x}[1] \\\\\n",
    "\\tilde{x}[2] \\\\\n",
    "\\tilde{x}[3] \\\\\n",
    "\\end{array}\n",
    "\\right) \n",
    "=\n",
    "\\left(\n",
    "\\begin{array}{cccc}\n",
    " 1 & 1 & 1 & 1 \\\\\n",
    " 1 & -i & -1 & i \\\\\n",
    " 1 & -1 & 1 & -1 \\\\\n",
    " 1 & i & -1 & -i \\\\\n",
    "\\end{array}\n",
    "\\right)\n",
    "\\left(\n",
    "\\begin{array}{c}\n",
    "\\tilde{x}[0] \\\\\n",
    "\\tilde{x}[1] \\\\\n",
    "\\tilde{x}[2] \\\\\n",
    "\\tilde{x}[3] \\\\\n",
    "\\end{array}\n",
    "\\right). \\\\\n",
    "\\end{eqnarray}\\tag{26}\n",
    "$$\n",
    "\n",
    "Inserting the input values $[A,0,-A,0]$ yields:\n",
    "\n",
    "$$\n",
    "\\left(\n",
    "\\begin{array}{c}\n",
    "\\tilde{X}[0] \\\\\n",
    "\\tilde{X}[1]\\\\\n",
    "\\tilde{X}[2]\\\\\n",
    "\\tilde{X}[3]\\\\\n",
    "\\end{array}\n",
    "\\right)\n",
    "=\n",
    "\\left(\n",
    "\\begin{array}{cccc}\n",
    " 1 & 1 & 1 & 1 \\\\\n",
    " 1 & i & -1 & -i \\\\\n",
    " 1 & -1 & 1 & -1 \\\\\n",
    " 1 & -i & -1 & i \\\\\n",
    "\\end{array}\n",
    "\\right)\n",
    "\\left(\n",
    "\\begin{array}{c}\n",
    "A \\\\\n",
    "0 \\\\\n",
    "-A \\\\\n",
    "0 \\\\\n",
    "\\end{array}\n",
    "\\right) \n",
    "=\n",
    "\\left(\n",
    "\\begin{array}{c}\n",
    "0 \\\\\n",
    "2A \\\\\n",
    "0 \\\\\n",
    "2A \\\\\n",
    "\\end{array}\n",
    "\\right),\\tag{27}\n",
    "$$\n",
    "\n",
    "which yields the same answer as above.  The matrix $\\left[W_N^{kn}\\right]$ is known as the **Fourier Matrix**."
   ]
  },
  {
   "cell_type": "markdown",
   "metadata": {},
   "source": [
    "<!--\n",
    "**Q1:** What is the Fourier Matrix $\\left[W_6^{kn}\\right]$?\n",
    "\n",
    "$$\n",
    "\\left(W_6^{kn}\\right)\n",
    "=\n",
    "\\left(\n",
    "\\begin{array}{cccccc}\n",
    " 1 & 1 & 1 & 1 & 1 & 1 \\\\\n",
    " 1 & e^{\\frac{i \\pi }{3}} & e^{\\frac{2 i \\pi }{3}} & -1 & e^{-\\frac{1}{3} (2 i \\pi )} & e^{-\\frac{1}{3} (i \\pi )} \\\\\n",
    " 1 & e^{\\frac{2 i \\pi }{3}} & e^{-\\frac{1}{3} (2 i \\pi )} & 1 & e^{\\frac{2 i \\pi }{3}} & e^{-\\frac{1}{3} (2 i \\pi )} \\\\\n",
    " 1 & -1 & 1 & -1 & 1 & -1 \\\\\n",
    " 1 & e^{-\\frac{1}{3} (2 i \\pi )} & e^{\\frac{2 i \\pi }{3}} & 1 & e^{-\\frac{1}{3} (2 i \\pi )} & e^{\\frac{2 i \\pi }{3}} \\\\\n",
    " 1 & e^{-\\frac{1}{3} (i \\pi )} & e^{-\\frac{1}{3} (2 i \\pi )} & -1 & e^{\\frac{2 i \\pi }{3}} & e^{\\frac{i \\pi }{3}} \\\\\n",
    "\\end{array}\n",
    "\\right)\n",
    "$$\n",
    "-->\n",
    "\n",
    "**Q2**: What is the Fourier Matrix $\\left[W_8^{kn}\\right]$?\n",
    "\n",
    "**A**: The Fourier Matrix $\\left[W_8^{kn}\\right]$ is given by:\n",
    "\n",
    "$$\n",
    "\\left(W_8^{kn}\\right)\n",
    "=\n",
    "\\left(\n",
    "\\begin{array}{cccccccc}\n",
    " 1 & 1 & 1 & 1 & 1 & 1 & 1 & 1 \\\\\n",
    " 1 & e^{-i \\pi/4} & -i & e^{- 3 i \\pi/4} & -1 & e^{3 i \\pi/4 } & i & e^{i \\pi/4  } \\\\\n",
    " 1 & -i & -1 & i & 1 & -i & -1 & i \\\\\n",
    " 1 & e^{-3 i \\pi/4} & i & e^{-i \\pi/4} & -1 & e^{i \\pi/4} & -i & e^{3 i \\pi/4} \\\\\n",
    " 1 & -1 & 1 & -1 & 1 & -1 & 1 & -1 \\\\\n",
    " 1 & e^{3 i \\pi/4} & -i & e^{i \\pi/4} & -1 & e^{-i \\pi /4} & i & e^{-3 i \\pi/4} \\\\\n",
    " 1 & i & -1 & -i & 1 & i & -1 & -i \\\\\n",
    " 1 & e^{i \\pi/4} & i & e^{3 i \\pi/4} & -1 & e^{-3 i \\pi /4} & -i & e^{-i \\pi/4} \\\\\n",
    "\\end{array}\n",
    "\\right)\n",
    "$$\n"
   ]
  },
  {
   "cell_type": "markdown",
   "metadata": {},
   "source": [
    "# Properties of the DFS\n",
    "\n",
    "## Linearity \n",
    "\n",
    "If $a$ and $b$ are real numbers then:\n",
    "\n",
    "$$a\\tilde{x_1}[n]+b\\tilde{x_2}[n]\\overset{DFS}{\\Longleftrightarrow}a\\tilde{X_1}[k]+b\\tilde{X_1}[k] \\tag{28}$$\n",
    "\n",
    "## Shift\n",
    "\n",
    "If a period sequence $\\tilde{x}[n]$ is shifted, the DFS coefficients are multiplied by a complex exponential.  If $\\tilde{x}[n]\\overset{DFS}{\\Longleftrightarrow}\\tilde{X}[k]$, then for $\\tilde{y}[n] = \\tilde{x}[n-n_0]$ we get\n",
    "\n",
    "$$ \\tilde{Y}[n] = W_N^{-kn_0} \\tilde{X}[n]. \\tag{29}$$\n",
    "\n",
    "Similarly if $\\tilde{y}[n] = W_N^{nk_0} \\tilde{x}[n]$ then\n",
    "\n",
    "$$ \\tilde{Y}[k] = \\tilde{X}[k+k_0]. \\tag{30}$$\n",
    "\n",
    "## Periodic Convolution\n",
    "\n",
    "If $\\tilde{h}[n]$ and $\\tilde{x}[n]$ are periodic with period $N$ and DFS coefficients $\\tilde{H}[k]$ and $\\tilde{X}[k]$, respectively, the sequence \n",
    "\n",
    "$$ \\tilde{Y}[k]=\\tilde{H}[k]\\tilde{X}[k] \\tag{31}$$\n",
    "\n",
    "is formed by **periodically convolving** $\\tilde{h}[n]$ with $\\tilde{x}[n]$\n",
    "\n",
    "$$\\tilde{y}[n] = \\sum_{l=0}^{N-1} \\tilde{h}[l]\\tilde{x}[n-l],\\tag{32}$$\n",
    "\n",
    "which is sometime written notationally as:\n",
    "\n",
    "$$\\tilde{y}[n] = \\tilde{h}[n]\\otimes \\tilde{x}[n] \\tag{33}$$\n",
    "\n",
    "The only difference between **periodic convolution** and **linear convolution** is that you only apply the sum over a full period $N$."
   ]
  },
  {
   "cell_type": "markdown",
   "metadata": {},
   "source": [
    "# The Discrete Fourier Transform (DFT)\n",
    "\n",
    "The discrete Fourier Transform (DFT) can easily be developed from the discrete Fourier series (DFS) representation for periodic sequences.  Let $x[n]$ be a finite-length sequence of length $N$ that is equal to zero outside the interval $[0,N-1]$.  A periodic sequence $\\tilde{x}[n]$ may be formed from $x[n]$ as follows:\n",
    "\n",
    "$$\\tilde{x}[n] = \\sum_{k=-\\infty}^{\\infty} x[n+kN], \\quad n=-\\infty,\\infty \\tag{34}$$\n",
    "\n",
    "From the inverse DFS representation for $\\tilde{x}[n]$, \n",
    "\n",
    "$$ \\tilde{x}[n] = \\frac{1}{N} \\sum_{k=0}^{N-1} \\tilde{X}[k]e^{i2\\pi k n/N}, \\quad n=-\\infty,\\infty \\tag{35}$$\n",
    "\n",
    "we can enforce the following restriction within the range $0\\le n < N$. This gives us our representation of the DFT:\n",
    "\n",
    "<div class=\"alert alert-info\" role=\"alert\">\n",
    "$$ x[n] = \\frac{1}{N} \\sum_{k=0}^{N-1} X[k]e^{i2\\pi k n/N},\\quad 0\\le n < N. \\tag{36}$$\n",
    "</div>\n",
    "\n",
    "Note that it is only by enforcing the range $0\\le n < N$ that the DFT is differentiated from the DFS.  Similarly, for the forward DFT representation we can write:\n",
    "\n",
    "<div class=\"alert alert-info\" role=\"alert\">\n",
    "$$ X[k] = \\sum_{n=0}^{N-1} x[n]e^{-i2\\pi k n/N},\\quad 0\\le k < N. \\tag{37}$$\n",
    "</div>\n",
    "\n",
    "We again recognize the duality with the following notation:\n",
    "\n",
    "$$x[n] \\overset{DFT}{\\Longleftrightarrow}X[k]. \\tag{38}$$"
   ]
  },
  {
   "cell_type": "markdown",
   "metadata": {},
   "source": [
    "## Example 3\n",
    "\n",
    "**(Q1)**  Compute the $N$-point DFT of\n",
    "\n",
    "$$x_1[n] = \\delta[n] \\quad \\mathrm{where} \\quad 0\\le n < N \\tag{39}$$\n",
    "\n",
    "**A:** The DFT of the unit sample can be easily evaluated from the definition of the DFT:\n",
    "\n",
    "$$X_1[k] = \\sum_{n=0}^{N-1} \\delta[n] W_N^{nk} = W_N^{0k} = e^{i2\\pi 0k/N} = 1, \\quad 0\\le k < N \\tag{40}$$\n",
    "\n",
    "Note that this similar to the continuous Fourier Transform where $\\delta(t)\\Longleftrightarrow 1$.  The coefficient and stem plots of the real and imaginary components assuming $N=10$ are shown below:"
   ]
  },
  {
   "cell_type": "code",
   "execution_count": 5,
   "metadata": {},
   "outputs": [
    {
     "name": "stdout",
     "output_type": "stream",
     "text": [
      "[1.+0.j 1.+0.j 1.+0.j 1.+0.j 1.+0.j 1.+0.j 1.-0.j 1.-0.j 1.-0.j 1.-0.j]\n"
     ]
    },
    {
     "data": {
      "image/png": "[encoded data removed]",
      "text/plain": [
       "<Figure size 1152x288 with 2 Axes>"
      ]
     },
     "metadata": {
      "needs_background": "light"
     },
     "output_type": "display_data"
    }
   ],
   "source": [
    "# . . Example with N=10\n",
    "N=10\n",
    "x3a=np.zeros(N); x3a[0]=1;\n",
    "X3a = np.fft.fft(x3a); print(X3a)\n",
    " \n",
    "plt.figure(figsize=(16, 4))\n",
    "plt.subplot(121);plt.stem(X3a.real);label('Coefficients - Real Component')\n",
    "plt.subplot(122);plt.stem(X3a.imag);label('Coefficients - Imag Component')\n",
    "plt.tight_layout(); plt.show()"
   ]
  },
  {
   "cell_type": "markdown",
   "metadata": {},
   "source": [
    "**Figure 3. The real (a) and imaginary (b) coefficients of the discrete Fourier series in equation 40 for $N=10$.**\n",
    "\n",
    "\n",
    "**(Q2)** Compute the $N$-point DFT of\n",
    "\n",
    "$$x_2[n] = \\delta[n-n_0], \\quad \\mathrm{where} \\quad 0\\le n < N \\tag{41}$$\n",
    "\n",
    "**A:** Similarly to the first example:\n",
    "\n",
    "$$X_2[k] = \\sum_{n=0}^{N-1} \\delta[n-n_0] W_N^{nk} = W_N^{n_0k} = e^{-i2\\pi n_0 k/N} , \\quad 0\\le k <N \\tag{42}$$\n",
    "\n",
    "The coefficient and stem plots of the real and imaginary components assuming $N=10$ and $n_0=2$ are shown below which very much look like the outline of a $\\cos$ function (which should not be too surprising since we are dealing with complex exponentials)."
   ]
  },
  {
   "cell_type": "code",
   "execution_count": 6,
   "metadata": {},
   "outputs": [
    {
     "name": "stdout",
     "output_type": "stream",
     "text": [
      "[ 1.        +0.j          0.30901699-0.95105652j -0.80901699-0.58778525j\n",
      " -0.80901699+0.58778525j  0.30901699+0.95105652j  1.        +0.j\n",
      "  0.30901699-0.95105652j -0.80901699-0.58778525j -0.80901699+0.58778525j\n",
      "  0.30901699+0.95105652j]\n"
     ]
    },
    {
     "data": {
      "image/png": "[encoded data removed]",
      "text/plain": [
       "<Figure size 1152x288 with 2 Axes>"
      ]
     },
     "metadata": {
      "needs_background": "light"
     },
     "output_type": "display_data"
    }
   ],
   "source": [
    "# . . Example with N=10 and n_0=2\n",
    "N,n0=10,2\n",
    "x3b=np.zeros(N);       x3b[n0]=1;\n",
    "X3b = np.fft.fft(x3b); print(X3b)\n",
    " \n",
    "plt.figure(figsize=(16, 4))\n",
    "plt.subplot(121);plt.stem(X3b.real);label('Coefficients - Real Component')\n",
    "plt.subplot(122);plt.stem(X3b.imag);label('Coefficients - Imag Component')\n",
    "plt.tight_layout(); plt.show()"
   ]
  },
  {
   "cell_type": "markdown",
   "metadata": {},
   "source": [
    "**Figure 4. The real (a) and imaginary (b) coefficients of the discrete Fourier series in equation 42 for $N=10$ and $n_0=2$.**\n",
    "\n",
    "\n",
    "**(Q3)** Compute the $N$-point DFT of\n",
    "\n",
    "$$x_3[n] = \\alpha^n, \\quad 0\\le n < N \\tag{43}$$\n",
    "\n",
    "**A:** The DFT is as follows:\n",
    "\n",
    "$$X_3[k] = \\sum_{n=0}^{N-1} x[n] W_N^{nk} =\\sum_{n=0}^{N-1} \\alpha^n W_N^{nk}=\\sum_{n=0}^{N-1} \\left(\\alpha W_N^{k}\\right)^n , \\quad \\quad 0\\le k < N \\tag{44}$$\n",
    "\n",
    " Again, using the geometric sum:\n",
    "\n",
    "$$X_3[k] = \\frac{1- \\left(\\alpha W_N^{k}\\right)^N}{1-\\alpha W_N^{k}}, \\quad 0\\le k < N \\tag{45}$$\n",
    "\n",
    "The coefficient and stem plots of the real and imaginary components for $n=10$ and $\\alpha=0.8$ are shown below."
   ]
  },
  {
   "cell_type": "code",
   "execution_count": 7,
   "metadata": {},
   "outputs": [
    {
     "name": "stdout",
     "output_type": "stream",
     "text": [
      "[4.46312909+0.j         0.91125877-1.21461476j 0.5865682 -0.59284759j\n",
      " 0.52158961-0.31818845j 0.50106726-0.1430391j  0.49590323+0.j\n",
      " 0.50106726+0.1430391j  0.52158961+0.31818845j 0.5865682 +0.59284759j\n",
      " 0.91125877+1.21461476j]\n"
     ]
    },
    {
     "data": {
      "image/png": "[encoded data removed]",
      "text/plain": [
       "<Figure size 1152x288 with 2 Axes>"
      ]
     },
     "metadata": {
      "needs_background": "light"
     },
     "output_type": "display_data"
    }
   ],
   "source": [
    "# . . Example with N=10 and a=0.8\n",
    "N,a=10,0.8\n",
    "n = np.array(np.arange(0,N,1));\n",
    "x3c = a**n; \n",
    "X3c = np.fft.fft(x3c);print(X3c)\n",
    "\n",
    "plt.figure(figsize=(16, 4))\n",
    "plt.subplot(121);plt.stem(X3c.real);label('Coefficients - Real Component')\n",
    "plt.subplot(122);plt.stem(X3c.imag);label('Coefficients - Imag Component')\n",
    "plt.tight_layout(); plt.show()"
   ]
  },
  {
   "cell_type": "markdown",
   "metadata": {},
   "source": [
    "**Figure 5. The real (a) and imaginary (b) coefficients of the discrete Fourier series in equation 45 using $n=10$ and $\\alpha=0.8$.**\n",
    "\n",
    "\n",
    "**(Q4)** Compute the $N$-point DFT of\n",
    "\n",
    "$$x_4[n] = u[n] - u[n-n_0], \\quad 0\\le n < N \\tag{46}$$\n",
    "\n",
    "**A:** The DFT may be calculated directly\n",
    "\n",
    "$$X_4[k] = \\sum_{n=0}^{N-1} x[n] W_N^{nk} = \\sum_{n=0}^{n_0-1} W_N^{nk} = \\frac{1- \\left(W_N^{k}\\right)^{n_0}}{1-W_N^{k}} = \\frac{1- W_N^{k n_0}}{1-W_N^{k}} , \\quad 0\\le k < N, \\tag{47}$$\n",
    "\n",
    "where we have used $r=W_N^{k}$. The coefficient and stem plots of the real and imaginary components are shown below for $N=10$ and $n_0=5$."
   ]
  },
  {
   "cell_type": "code",
   "execution_count": 8,
   "metadata": {},
   "outputs": [
    {
     "name": "stdout",
     "output_type": "stream",
     "text": [
      "[5.00000000e+00+0.j         1.00000000e+00-3.07768354j\n",
      " 2.22044605e-16+0.j         1.00000000e+00-0.72654253j\n",
      " 2.22044605e-16-0.j         1.00000000e+00+0.j\n",
      " 2.22044605e-16+0.j         1.00000000e+00+0.72654253j\n",
      " 2.22044605e-16-0.j         1.00000000e+00+3.07768354j]\n"
     ]
    },
    {
     "data": {
      "image/png": "[encoded data removed]",
      "text/plain": [
       "<Figure size 1152x288 with 2 Axes>"
      ]
     },
     "metadata": {
      "needs_background": "light"
     },
     "output_type": "display_data"
    }
   ],
   "source": [
    "# . . Example with N=10 and n0=5\n",
    "N,n0=10,5\n",
    "x3d = np.ones(N); x3d[n0:N]=0\n",
    "X3d = np.fft.fft(x3d);print(X3d)\n",
    "\n",
    "plt.figure(figsize=(16, 4))\n",
    "plt.subplot(121);plt.stem(X3d.real);label('(a) Coefficients - Real Component')\n",
    "plt.subplot(122);plt.stem(X3d.imag);label('(b) Coefficients - Imag Component')\n",
    "plt.tight_layout(); plt.show()"
   ]
  },
  {
   "cell_type": "markdown",
   "metadata": {},
   "source": [
    "**Figure 6. The real (a) and imaginary (b) coefficients of the discrete Fourier series in equation 47 for the choice of $N=10$ and $n_0=5$.**\n",
    "\n",
    "\n",
    "## Example 4\n",
    "\n",
    "**Q:** Find the inverse DFT of the $N=10$ point signal\n",
    "\n",
    "$$X[k] = \n",
    "\\left\\{\n",
    "\\begin{array}{cc}\n",
    "3, & k=0\\\\\n",
    "1, & 1\\le k \\le 9\\\\\n",
    "\\end{array}\n",
    "\\right.\n",
    "\\tag{49}\n",
    "$$\n",
    "\n",
    "**A:** To find the inverse DFT, we note that $X[k]$ may exploit the linearity property of the DFT and write:\n",
    "\n",
    "$$X[k] = X_1[k]+X_2[k] = 1+2\\delta[k] \\tag{50}$$\n",
    "\n",
    "From the example above we know that \n",
    "\n",
    "$$\\delta[n] \\overset{DFT}{\\Longleftrightarrow} 1 \\tag{51}$$\n",
    "\n",
    "and\n",
    "\n",
    "$$1\\overset{DFT}{\\Longleftrightarrow} N\\delta[k].  \\tag{52}$$\n",
    "\n",
    "Thus, \n",
    "\n",
    "$$\\delta[n]+\\frac{1}{5} \\overset{DFT}{\\Longleftrightarrow} 1+2\\delta[k]. \\tag{53}$$\n",
    "\n",
    "The coefficients and stem plots of the real and imaginary components are shown below."
   ]
  },
  {
   "cell_type": "code",
   "execution_count": 9,
   "metadata": {},
   "outputs": [
    {
     "name": "stdout",
     "output_type": "stream",
     "text": [
      "[1.2+0.j 0.2+0.j 0.2+0.j 0.2+0.j 0.2+0.j 0.2+0.j 0.2+0.j 0.2+0.j 0.2+0.j\n",
      " 0.2+0.j]\n"
     ]
    },
    {
     "data": {
      "image/png": "[encoded data removed]",
      "text/plain": [
       "<Figure size 1152x288 with 2 Axes>"
      ]
     },
     "metadata": {
      "needs_background": "light"
     },
     "output_type": "display_data"
    }
   ],
   "source": [
    "x2=np.array([3,1,1,1,1,1,1,1,1,1])\n",
    "X2 = np.fft.ifft(x2);print(X2)\n",
    "\n",
    "plt.figure(figsize=(16, 4))\n",
    "plt.subplot(121);plt.stem(X2.real);label('(a) Coefficients - Real Component')\n",
    "plt.subplot(122);plt.stem(X2.imag);label('(b) Coefficients - Imag Component')\n",
    "plt.tight_layout(); plt.show()"
   ]
  },
  {
   "cell_type": "markdown",
   "metadata": {},
   "source": [
    "**Figure 7. The real (a) and imaginary (b) coefficients of the discrete Fourier series in equation 53 for the $N=10$ point signal.**\n",
    "\n",
    "## Example 5\n",
    "\n",
    "**Q:** Find the N-point DFT of:\n",
    "\n",
    "$$x[n] = 4+\\mathrm{cos}^2\\left(\\frac{2\\pi n}{N}\\right), \\quad n=0,N-1. \\tag{54}$$\n",
    "\n",
    "**A:** The DFT of this sequence may be evaluated by expanding cosine as a sum of complex exponentials:\n",
    "\n",
    "$$x[n] = 4 + \\left( \n",
    "\\frac{e^{i2\\pi n/N} + e^{-i2\\pi n/N}}{2}\n",
    "\\right)^2 \n",
    "=\n",
    "4 + \\frac{1}{4}\\left(\n",
    "e^{i4\\pi n/N} + 2 + e^{-i4\\pi n/N}\n",
    "\\right)\n",
    "=\n",
    "\\frac{9}{2} + \\frac{1}{4} e^{i4\\pi n/N} + \\frac{1}{4} e^{-i4\\pi n/N}\n",
    "\\tag{55}\n",
    "$$\n",
    "\n",
    "Using the periodicity we rewrite the last term as:\n",
    "\n",
    "$$x[n] =\\frac{9}{2} + \\frac{1}{4} e^{\\frac{i2\\pi}{N} (2n)} + \\frac{1}{4} e^{\\frac{-i2\\pi}{N} (N-2)n}\n",
    "\\tag{56}\n",
    "$$\n",
    "\n",
    "Thus, writing\n",
    "\n",
    "$$ X[k] = \\sum_{n=0}^{N-1} \\left( \\frac{9}{2} + \\frac{1}{4} e^{\\frac{i2\\pi}{N} (2n)} + \\frac{1}{4} e^{\\frac{-i2\\pi}{N} (N-2)n}\\right) e^{-\\frac{i2\\pi k}{N} n},\\quad 0\\le k < N.\n",
    "\\tag{57}\n",
    "$$\n",
    "\n",
    "Expressing these as three sums:\n",
    "\n",
    "$$ X[k] = \n",
    "\\frac{9}{2} \n",
    "\\sum_{n=0}^{N-1} \n",
    "e^{-\\frac{i2\\pi k}{N} n} \n",
    "+ \n",
    "\\frac{1}{4} \\sum_{n=0}^{N-1} \n",
    "e^{\\frac{i2\\pi}{N} (2n)} e^{-\\frac{i2\\pi k}{N} n} \n",
    "+ \n",
    "\\frac{1}{4}\\sum_{n=0}^{N-1} \n",
    " e^{\\frac{-i2\\pi}{N} (N-2)n} e^{-\\frac{i2\\pi k}{N} n}\n",
    ",\\quad 0\\le k < N.\n",
    "\\tag{58}\n",
    "$$\n",
    "\n",
    "Combining the exponential terms yields:\n",
    "\n",
    "$$ X[k] = \n",
    "\\frac{9}{2} \n",
    "\\sum_{n=0}^{N-1} \n",
    "e^{-\\frac{i2\\pi k}{N} n} \n",
    "+ \n",
    "\\frac{1}{4} \\sum_{n=0}^{N-1} \n",
    "e^{\\frac{i2\\pi n(k-2)}{N} n} \n",
    "+ \n",
    "\\frac{1}{4}\\sum_{n=0}^{N-1} \n",
    " e^{\\frac{-i2\\pi}{N} (N-2-k)n}\n",
    ",\\quad 0\\le k < N.\n",
    "\\tag{59}\n",
    "$$\n",
    "or evaluating for different $k$ values:\n",
    "\n",
    "$$ X[k] = \\left\\{\n",
    "\\begin{array}{cc}\n",
    "\\frac{9N}{2}, & k=0\\\\\n",
    "\\frac{N}{4}, & k=2, N-2\\\\\n",
    "0 , & \\mathrm{otherwise}\\\\\n",
    "\\end{array}\n",
    "\\right.\n",
    "\\tag{60}\n",
    "$$\n",
    "\n",
    "The coefficient and stem plots of the real and imaginary components are shown below:"
   ]
  },
  {
   "cell_type": "code",
   "execution_count": 10,
   "metadata": {},
   "outputs": [
    {
     "name": "stdout",
     "output_type": "stream",
     "text": [
      "[4.50000000e+01+0.00000000e+00j 0.00000000e+00+0.00000000e+00j\n",
      " 2.50000000e+00-1.04411635e-15j 0.00000000e+00+0.00000000e+00j\n",
      " 3.44338698e-15+1.68941575e-15j 0.00000000e+00+0.00000000e+00j\n",
      " 3.44338698e-15-1.68941575e-15j 0.00000000e+00-0.00000000e+00j\n",
      " 2.50000000e+00+1.04411635e-15j 0.00000000e+00-0.00000000e+00j]\n"
     ]
    },
    {
     "data": {
      "image/png": "[encoded data removed]",
      "text/plain": [
       "<Figure size 864x288 with 2 Axes>"
      ]
     },
     "metadata": {
      "needs_background": "light"
     },
     "output_type": "display_data"
    }
   ],
   "source": [
    "# . . Example with N=10\n",
    "n=np.array(np.arange(0,N,1))\n",
    "x4 = 4+np.cos(2*np.pi*n/N)**2\n",
    "X4 = np.fft.fft(x4);print(X4)\n",
    " \n",
    "plt.figure(figsize=(12, 4))\n",
    "plt.subplot(121);plt.stem(X4.real);label('(a) Coefficients - Real Component');plt.axis([-0.5,N-0.5,-1,9*N/2+1])\n",
    "plt.subplot(122);plt.stem(X4.imag);label('(b) Coefficients - Imag Component');plt.axis([-0.5,N-0.5,-1,9*N/2+1])\n",
    "plt.tight_layout(); plt.show()"
   ]
  },
  {
   "cell_type": "markdown",
   "metadata": {},
   "source": [
    "**Figure 8. The real (a) and imaginary (b) coefficients of the discrete Fourier series in equation 60.**\n"
   ]
  },
  {
   "cell_type": "code",
   "execution_count": 11,
   "metadata": {},
   "outputs": [
    {
     "name": "stdout",
     "output_type": "stream",
     "text": [
      "[-0.25+0.j  0.25+0.j -0.25+0.j  0.25+0.j]\n"
     ]
    }
   ],
   "source": [
    "xn = [0,0,-1,0]\n",
    "print(np.fft.ifft(xn))"
   ]
  },
  {
   "cell_type": "markdown",
   "metadata": {},
   "source": [
    "## Matrix Representation of the DFT\n",
    "\n",
    "Recall from above that we can represent the DFS as a matrix operation.  Due to the similarity between the DFS and DFT operations, the same can be said for the DFT:\n",
    "\n",
    "$$\n",
    "\\left(\n",
    "\\begin{array}{c}\n",
    "\\tilde{X}[0] \\\\\n",
    "\\tilde{X}[1]\\\\\n",
    "\\tilde{X}[2]\\\\\n",
    "\\dots \\\\\n",
    "\\tilde{X}[N-3]\\\\\n",
    "\\tilde{X}[N-2]\\\\\n",
    "\\tilde{X}[N-1]\\\\\n",
    "\\end{array}\n",
    "\\right)\n",
    "=\n",
    "\\left(\n",
    "\\begin{array}{c}\n",
    "W_N^{0*0} & W_N^{1*0} & W_N^{2*0} & \\vdots & W_N^{(N-3)*0} & W_N^{(N-2)*0} & W_N^{(N-1)*0} \\\\\n",
    "W_N^{0*1} & W_N^{1*1} & W_N^{2*1} & \\vdots & W_N^{(N-3)*1} & W_N^{(N-2)*1} & W_N^{(N-1)*1} \\\\\n",
    "W_N^{0*2} & W_N^{1*2} & W_N^{2*2} & \\vdots & W_N^{(N-3)*2} & W_N^{(N-2)*2} & W_N^{(N-1)*2} \\\\\n",
    "\\dots     & \\dots     & \\dots     & \\vdots  & \\dots     & \\dots     & \\dots     \\\\\n",
    "W_N^{0*(N-3)} & W_N^{1*(N-3)} & W_N^{2*(N-3)} & \\vdots & W_N^{(N-3)*(N-3)} & W_N^{(N-2)*(N-3)} & W_N^{(N-1)*(N-3)} \\\\\n",
    "W_N^{0*(N-2)} & W_N^{1*(N-2)} & W_N^{2*(N-2)} & \\vdots & W_N^{(N-3)*(N-2)} & W_N^{(N-2)*(N-2)} & W_N^{(N-1)*(N-2)} \\\\\n",
    "W_N^{0*(N-1)} & W_N^{1*(N-1)} & W_N^{2*(N-1)} & \\vdots & W_N^{(N-3)*(N-1)} & W_N^{(N-2)*(N-1)} & W_N^{(N-1)*(N-1)} \\\\\n",
    "\\end{array}\n",
    "\\right)\n",
    "\\left(\n",
    "\\begin{array}{c}\n",
    "\\tilde{x}[0] \\\\\n",
    "\\tilde{x}[1] \\\\\n",
    "\\tilde{x}[2] \\\\\n",
    "\\dots \\\\\n",
    "\\tilde{x}[N-3] \\\\\n",
    "\\tilde{x}[N-2] \\\\\n",
    "\\tilde{x}[N-1] \\\\\n",
    "\\end{array}\n",
    "\\right) \n",
    "\\tag{61}\n",
    "$$"
   ]
  },
  {
   "cell_type": "markdown",
   "metadata": {
    "collapsed": true
   },
   "source": [
    "# Properties of the DFT\n",
    "\n",
    "Here I list some of the important properties of the DFT.  Because each sequence is assumed to be finite in length, one must be careful manipulating DFTs to avoid unintended behaviour (e.g., aliasing).\n",
    "\n",
    "## Linearity\n",
    "\n",
    "If $x_1[n]$ and $x_2[n]$ have N-point DFTs $X_1[k]$ and $X_2[k]$, respectively, then \n",
    "\n",
    "$$ax_1[n]+bx_2[n] \\overset{DFT}{\\Longleftrightarrow}aX_1[k]+bX_2[k] \\tag{62}$$\n",
    "\n",
    "NOTE: When using this property it is important to ensure that the DFTs are the same length.  If there are unequal than the shorter sequence must be **padded** with zeros to make it the same length as the longer one. \n",
    "\n",
    "## Symmetry\n",
    "\n",
    "If $x[n]$ is real valued then $X[k]$ is conjugate symmetric\n",
    "\n",
    "$$X[k] = \\overline{X[-k]} \\tag{63}$$\n"
   ]
  },
  {
   "cell_type": "markdown",
   "metadata": {},
   "source": [
    "## Linear Convolution using the DFT\n",
    "\n",
    "The DFT provides a convenient way to perform convolutions without having to evaluate the convolution sum.  If $h[n]$ is N_1 points long and $x[n]$ is N_2 points longs, then $h[n]$ may be linearly convolved with $x[n]$ according to the following formula:\n",
    "\n",
    "1. Pad the sequences $h[n]$ and $x[n]$ with zeros so that they are both of length $N\\ge N_1+N_2-1$.\n",
    "2. Find the $N$-point DFTs of $h[n]$ and $x[n]$.\n",
    "3. Multiply the two DFTs to form the product $Y[k] = H[k] X[k]$.\n",
    "4. Find the inverse DFT of $Y[k]$."
   ]
  },
  {
   "cell_type": "code",
   "execution_count": 12,
   "metadata": {},
   "outputs": [
    {
     "ename": "AttributeError",
     "evalue": "module 'scipy' has no attribute 'signal'",
     "output_type": "error",
     "traceback": [
      "\u001b[0;31m---------------------------------------------------------------------------\u001b[0m",
      "\u001b[0;31mAttributeError\u001b[0m                            Traceback (most recent call last)",
      "\u001b[0;32m<ipython-input-12-340a9dc85f87>\u001b[0m in \u001b[0;36m<module>\u001b[0;34m\u001b[0m\n\u001b[1;32m     65\u001b[0m     \u001b[0mCONV_time\u001b[0m\u001b[0;34m[\u001b[0m\u001b[0mix\u001b[0m\u001b[0;34m]\u001b[0m \u001b[0;34m=\u001b[0m \u001b[0mt1\u001b[0m\u001b[0;34m-\u001b[0m\u001b[0mt0\u001b[0m\u001b[0;34m\u001b[0m\u001b[0;34m\u001b[0m\u001b[0m\n\u001b[1;32m     66\u001b[0m \u001b[0;34m\u001b[0m\u001b[0m\n\u001b[0;32m---> 67\u001b[0;31m     \u001b[0mt0\u001b[0m\u001b[0;34m,\u001b[0m\u001b[0mt1\u001b[0m\u001b[0;34m=\u001b[0m\u001b[0mrun_scipy_conv\u001b[0m\u001b[0;34m(\u001b[0m\u001b[0mix\u001b[0m\u001b[0;34m,\u001b[0m\u001b[0mix\u001b[0m\u001b[0;34m)\u001b[0m\u001b[0;34m\u001b[0m\u001b[0;34m\u001b[0m\u001b[0m\n\u001b[0m\u001b[1;32m     68\u001b[0m     \u001b[0mSDFT_time\u001b[0m\u001b[0;34m[\u001b[0m\u001b[0mix\u001b[0m\u001b[0;34m]\u001b[0m \u001b[0;34m=\u001b[0m \u001b[0mt1\u001b[0m\u001b[0;34m-\u001b[0m\u001b[0mt0\u001b[0m\u001b[0;34m\u001b[0m\u001b[0;34m\u001b[0m\u001b[0m\n\u001b[1;32m     69\u001b[0m \u001b[0;34m\u001b[0m\u001b[0m\n",
      "\u001b[0;32m<ipython-input-12-340a9dc85f87>\u001b[0m in \u001b[0;36mrun_scipy_conv\u001b[0;34m(N1, N2)\u001b[0m\n\u001b[1;32m     45\u001b[0m     \u001b[0mhn\u001b[0m \u001b[0;34m=\u001b[0m \u001b[0mnp\u001b[0m\u001b[0;34m.\u001b[0m\u001b[0mzeros\u001b[0m\u001b[0;34m(\u001b[0m\u001b[0mN2\u001b[0m\u001b[0;34m)\u001b[0m\u001b[0;34m;\u001b[0m \u001b[0mhn\u001b[0m\u001b[0;34m[\u001b[0m\u001b[0;36m0\u001b[0m\u001b[0;34m]\u001b[0m\u001b[0;34m=\u001b[0m\u001b[0;36m1\u001b[0m\u001b[0;34m;\u001b[0m \u001b[0mhn\u001b[0m\u001b[0;34m[\u001b[0m\u001b[0mint\u001b[0m\u001b[0;34m(\u001b[0m\u001b[0mN2\u001b[0m\u001b[0;34m/\u001b[0m\u001b[0;36m2\u001b[0m\u001b[0;34m)\u001b[0m\u001b[0;34m]\u001b[0m\u001b[0;34m=\u001b[0m\u001b[0;34m-\u001b[0m\u001b[0;36m1\u001b[0m\u001b[0;34m\u001b[0m\u001b[0;34m\u001b[0m\u001b[0m\n\u001b[1;32m     46\u001b[0m     \u001b[0mt0\u001b[0m \u001b[0;34m=\u001b[0m \u001b[0mtime\u001b[0m\u001b[0;34m.\u001b[0m\u001b[0mtime\u001b[0m\u001b[0;34m(\u001b[0m\u001b[0;34m)\u001b[0m\u001b[0;34m\u001b[0m\u001b[0;34m\u001b[0m\u001b[0m\n\u001b[0;32m---> 47\u001b[0;31m     \u001b[0mconv\u001b[0m \u001b[0;34m=\u001b[0m \u001b[0msci\u001b[0m\u001b[0;34m.\u001b[0m\u001b[0msignal\u001b[0m\u001b[0;34m.\u001b[0m\u001b[0mfftconvolve\u001b[0m\u001b[0;34m(\u001b[0m\u001b[0mxn\u001b[0m\u001b[0;34m,\u001b[0m\u001b[0mhn\u001b[0m\u001b[0;34m,\u001b[0m\u001b[0mmode\u001b[0m\u001b[0;34m=\u001b[0m\u001b[0;34m\"same\"\u001b[0m\u001b[0;34m)\u001b[0m\u001b[0;34m\u001b[0m\u001b[0;34m\u001b[0m\u001b[0m\n\u001b[0m\u001b[1;32m     48\u001b[0m     \u001b[0mt1\u001b[0m \u001b[0;34m=\u001b[0m \u001b[0mtime\u001b[0m\u001b[0;34m.\u001b[0m\u001b[0mtime\u001b[0m\u001b[0;34m(\u001b[0m\u001b[0;34m)\u001b[0m\u001b[0;34m\u001b[0m\u001b[0;34m\u001b[0m\u001b[0m\n\u001b[1;32m     49\u001b[0m     \u001b[0;32mreturn\u001b[0m \u001b[0mt0\u001b[0m\u001b[0;34m,\u001b[0m\u001b[0mt1\u001b[0m\u001b[0;34m\u001b[0m\u001b[0;34m\u001b[0m\u001b[0m\n",
      "\u001b[0;31mAttributeError\u001b[0m: module 'scipy' has no attribute 'signal'"
     ]
    }
   ],
   "source": [
    "# Let's time as well\n",
    "import time\n",
    "import scipy as sci\n",
    "\n",
    "# . . function to run DFT\n",
    "def run_DFT(N1,N2):\n",
    "    n = np.array(np.arange(0,N1,1))\n",
    "    xn = np.exp(-n)\n",
    "    hn = np.zeros(N2); hn[0]=1; hn[int(N2/2)]=-1\n",
    "\n",
    "    # . . Begin time\n",
    "    t0 = time.time()\n",
    "\n",
    "    # . . Step 1 - Pad sequences\n",
    "    xnpad = np.zeros(N1+N2-1); xnpad[0:N1]=xn;\n",
    "    hnpad = np.zeros(N1+N2-1); hnpad[0:N2]=hn;\n",
    "\n",
    "    # . . Step 2 - Take DFTs of both\n",
    "    Xnpad = np.fft.fft(xnpad);\n",
    "    Hnpad = np.fft.fft(hnpad);\n",
    "\n",
    "    # . . Step 3 - Multiply\n",
    "    Ynpad = Xnpad*Hnpad;\n",
    "\n",
    "    # . . Step 4 - Take ifft of result\n",
    "    ynpad = np.fft.ifft(Ynpad)\n",
    "\n",
    "    # . . End time\n",
    "    t1 = time.time()\n",
    "    return t0,t1\n",
    "\n",
    "# . . Function to run Convolution\n",
    "def run_conv(N1,N2):\n",
    "    n = np.array(np.arange(0,N1,1))\n",
    "    xn = np.exp(-n)\n",
    "    hn = np.zeros(N2); hn[0]=1; hn[int(N2/2)]=-1\n",
    "    t0 = time.time()\n",
    "    conv = np.convolve(xn,hn,mode=\"full\")\n",
    "    t1 = time.time()\n",
    "    return t0,t1\n",
    "\n",
    "def run_scipy_conv(N1,N2):\n",
    "    n = np.array(np.arange(0,N1,1))\n",
    "    xn = np.exp(-n)\n",
    "    hn = np.zeros(N2); hn[0]=1; hn[int(N2/2)]=-1\n",
    "    t0 = time.time()\n",
    "    conv = sci.signal.fftconvolve(xn,hn,mode=\"same\")\n",
    "    t1 = time.time()\n",
    "    return t0,t1\n",
    "\n",
    "## . . Main code here\n",
    "Nmin,Nmax=1,8192\n",
    "ratio     = np.zeros(Nmax-Nmin+1)\n",
    "ratio2    = np.zeros(Nmax-Nmin+1)\n",
    "DFT_time  = np.zeros(Nmax-Nmin+1)\n",
    "CONV_time = np.zeros(Nmax-Nmin+1)\n",
    "SDFT_time = np.zeros(Nmax-Nmin+1)\n",
    "\n",
    "# . . Let's loop over different lengths of vectors\n",
    "for ix in range(Nmin,Nmax,1):\n",
    "    t0,t1=run_DFT(ix,ix)\n",
    "    DFT_time[ix] = t1-t0\n",
    "\n",
    "    t0,t1=run_conv(ix,ix)\n",
    "    CONV_time[ix] = t1-t0\n",
    "\n",
    "    t0,t1=run_scipy_conv(ix,ix)\n",
    "    SDFT_time[ix] = t1-t0    \n",
    "    \n",
    "    ratio [ix]=CONV_time[ix]/(DFT_time[ix]+.00000001)\n",
    "    ratio2[ix]=CONV_time[ix]/(SDFT_time[ix]+.00000001)"
   ]
  },
  {
   "cell_type": "code",
   "execution_count": null,
   "metadata": {},
   "outputs": [],
   "source": [
    "# . . There's a NaN for a small number .. fix this\n",
    "ratio=np.nan_to_num(ratio)\n",
    "\n",
    "# Plotting\n",
    "plt.figure(figsize=(16, 8))\n",
    "plt.subplot(211)\n",
    "plt.plot([0,8192],[1,1],'k')\n",
    "plt.plot(range(Nmin,Nmax+1,1),ratio)\n",
    "plt.xlabel('Length of $h[n]$ and $x[n]$',size=14)\n",
    "plt.ylabel('Speed up',size=20)\n",
    "plt.title('(a) Speedup of self-coded DFT approach over np.convolve()',size=16)\n",
    "plt.xlim(0,8192)\n",
    "plt.ylim(0,32)\n",
    "\n",
    "plt.subplot(212)\n",
    "plt.plot([0,8192],[1,1],'k')\n",
    "plt.plot(range(Nmin,Nmax+1,1),ratio2)\n",
    "plt.xlabel('Length of $h[n]$ and $x[n]$',size=14)\n",
    "plt.ylabel('Speed up',size=20)\n",
    "plt.title('(b) Speedup of scipy.signal.fftconvolve() over np.convolve()',size=16)\n",
    "plt.xlim(0,8192)\n",
    "plt.ylim(0,32)\n",
    "\n",
    "plt.tight_layout(); plt.show()"
   ]
  },
  {
   "cell_type": "markdown",
   "metadata": {},
   "source": [
    "**Figure 9. Speed up of the DFT approach over applying time-domain convolution of $h[n] \\ast x[n]$ for array sizes of $[0,2048]$. (a) The speed up of the DFT over the np.convolve() approach for full range. (b) The speed up of the scipy.signal.fftconvolve() over the np.convolve() approach for full range.**\n",
    "\n",
    "## Fast Fourier Transforms (FFTs)\n",
    "\n",
    "Maybe it is surprising to you how non-uniform the results actually. This is partially because of something we've only briefly talked about: the [fast Fourier Transform (FFT)](https://en.wikipedia.org/wiki/Fast_Fourier_transform).  When the length of the arrays can be factorized by powers of 2,3,5,7 or 11, a FFT algorithm can be used to split up the full DFT into a number of sub-FFTs that are smaller and more efficient to compute.  If the resulting dimensions is again divisible by a power of 2,3,5,7 and 11, then it can be again split. \n",
    "\n",
    "For a series of of $2^N$ where $N$ is an integers, it is possible to perform $N-1$ subdivisions, compute a 2-point DFT, and the recombine the results back up the chain to generate the full $2^N$ FFT.  The order of operations of this is $\\mathcal{O}(N log_2 N)$, while the DFT is $\\mathcal{O}(N^2)$.  Thus, it makes sense to pad a few zeros to a length that is optimal for FFT!"
   ]
  },
  {
   "cell_type": "code",
   "execution_count": null,
   "metadata": {},
   "outputs": [],
   "source": []
  }
 ],
 "metadata": {
  "kernelspec": {
   "display_name": "Python 3",
   "language": "python",
   "name": "python3"
  },
  "language_info": {
   "codemirror_mode": {
    "name": "ipython",
    "version": 3
   },
   "file_extension": ".py",
   "mimetype": "text/x-python",
   "name": "python",
   "nbconvert_exporter": "python",
   "pygments_lexer": "ipython3",
   "version": "3.7.6"
  }
 },
 "nbformat": 4,
 "nbformat_minor": 2
}
