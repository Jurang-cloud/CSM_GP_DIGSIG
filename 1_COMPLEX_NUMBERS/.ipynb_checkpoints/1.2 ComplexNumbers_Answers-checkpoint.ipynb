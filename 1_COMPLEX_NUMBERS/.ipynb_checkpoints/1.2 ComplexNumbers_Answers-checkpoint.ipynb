{
 "cells": [
  {
   "cell_type": "code",
   "execution_count": 3,
   "metadata": {},
   "outputs": [
    {
     "data": {
      "text/html": [
       "<script>\n",
       "code_show=true; \n",
       "function code_toggle() {\n",
       " if (code_show){\n",
       " $('div.input').hide();\n",
       " } else {\n",
       " $('div.input').show();\n",
       " }\n",
       " code_show = !code_show\n",
       "} \n",
       "$( document ).ready(code_toggle);\n",
       "</script>\n",
       "The raw code for this IPython notebook is by default hidden for easier reading.\n",
       "To toggle on/off the raw code, click <a href=\"javascript:code_toggle()\">here</a>."
      ],
      "text/plain": [
       "<IPython.core.display.HTML object>"
      ]
     },
     "execution_count": 3,
     "metadata": {},
     "output_type": "execute_result"
    }
   ],
   "source": [
    "from IPython.display import HTML\n",
    "import numpy as np\n",
    "import matplotlib.pyplot as plt\n",
    "import math as m\n",
    "\n",
    "HTML('''<script>\n",
    "code_show=true; \n",
    "function code_toggle() {\n",
    " if (code_show){\n",
    " $('div.input').hide();\n",
    " } else {\n",
    " $('div.input').show();\n",
    " }\n",
    " code_show = !code_show\n",
    "} \n",
    "$( document ).ready(code_toggle);\n",
    "</script>\n",
    "The raw code for this IPython notebook is by default hidden for easier reading.\n",
    "To toggle on/off the raw code, click <a href=\"javascript:code_toggle()\">here</a>.''')"
   ]
  },
  {
   "cell_type": "code",
   "execution_count": 19,
   "metadata": {},
   "outputs": [
    {
     "name": "stdout",
     "output_type": "stream",
     "text": [
      "Populating the interactive namespace from numpy and matplotlib\n"
     ]
    },
    {
     "name": "stderr",
     "output_type": "stream",
     "text": [
      "/anaconda3/lib/python3.6/site-packages/IPython/core/magics/pylab.py:160: UserWarning: pylab import has clobbered these variables: ['mpl']\n",
      "`%matplotlib` prevents importing * from pylab and numpy\n",
      "  \"\\n`%matplotlib` prevents importing * from pylab and numpy\"\n"
     ]
    }
   ],
   "source": [
    "%pylab inline\n",
    "import numpy as np\n",
    "\n",
    "## . . NOTE: To do this example you need to install the sympy library\n",
    "## . . conda install sympy\n",
    "from sympy import plot_implicit, symbols, Eq, And\n",
    "import sympy.plotting as syp\n",
    "import matplotlib.pyplot as mpl"
   ]
  },
  {
   "cell_type": "markdown",
   "metadata": {},
   "source": [
    "## Question 1\n",
    "\n",
    "Let $z-3-3i$ and $w=1+\\sqrt{3}i$, then:\n",
    "\n",
    "(i) $z+w = (3-3i)+(1+\\sqrt{3}i) = 4+(\\sqrt{3}-3)i$\n",
    "\n",
    "---\n",
    "\n",
    "(ii) $z-w = (3-3i)-(1+\\sqrt{3}i) = 2-(\\sqrt{3}+3)i$\n",
    "\n",
    "---\n",
    "\n",
    "(iii) $zw = (3-3i)(1+\\sqrt{3}i) = 3+3\\sqrt{3}i-3i-3\\sqrt{3}i^2 = 3+\\sqrt{3}+ 3(\\sqrt{3}-1)i $\n",
    "\n",
    "---\n",
    "\n",
    "(iv)  $\\frac{z}{w} = \\frac{3-3i}{1+\\sqrt{3}i} \\frac{1-\\sqrt{3}i}{1-\\sqrt{3}i} = \\frac{3(1-\\sqrt{3})-3(1+\\sqrt{3})i}{3+1} = \\frac{3}{4}\\left[ (1-\\sqrt{3})-(1+\\sqrt{3})i \\right] $"
   ]
  },
  {
   "cell_type": "markdown",
   "metadata": {},
   "source": [
    "## Question 2\n",
    "\n",
    "If $z=a+ib$ and $w=c+id$ then\n",
    "\n",
    "(i) Let's equate two expressions:\n",
    "\n",
    "$\\overline{z+w} = \\overline{(a+c)+(b+d)i}=(a+c)-(b+d)i$\n",
    "\n",
    "$\\overline{z}+\\overline{w} = a-ib + c-id = (a+c) -(b+d)i$\n",
    "    \n",
    "Thus, because the two expressions are equal, we know that $\\overline{z+w}=\\overline{z}+\\overline{w}$\n",
    "\n",
    "---\n",
    "\n",
    "(ii) Let's equate two expressions:\n",
    "\n",
    "$\\overline{z-w} = \\overline{(a-c)+(b-d)i}=(a-c)-(b-d)i$\n",
    "\n",
    "$\\overline{z}-\\overline{w} = (a-ib) - (c-id) = (a-c) -(b-d)i$\n",
    "    \n",
    "Thus, because the two expressions are equal, we know that $\\overline{z-w}=\\overline{z}-\\overline{w}$\n",
    "\n",
    "---\n",
    "\n",
    "(iii) Let's equate two expressions:\n",
    "\n",
    "$\\overline{zw} = \\overline{(a+ib)(c+id)}=\\overline{(ac-bd)+i(bc+ad)}=(ac-bd)-i(bc+ad)$\n",
    "\n",
    "$\\overline{z}\\overline{w} = (a-ib)(c-id) = (ac-bd)-i(bc+ad)$\n",
    "    \n",
    "Thus, because the two expressions are equal, we know that $\\overline{zw}=\\overline{z}\\overline{w}$\n",
    "\n",
    "---\n",
    "\n",
    "(iv) Let's equate two expressions:\n",
    "\n",
    "$\\overline{z/w} = \\overline{\\frac{(a+ib)}{(c+id)}\\frac{(c-id)}{(c-id)}}=\\overline{\\frac{(ac+bd)+i(bc-ad)}{c^2+d^2}}=\\frac{(ac+bd)-i(bc-ad)}{c^2+d^2}$\n",
    "\n",
    "$\\frac{\\overline{z}}{\\overline{w}} = \\frac{(a-ib)}{(c-id)} \\frac{c+id}{c+id}=\\frac{(ac+bd)-i(bc-ad)}{c^2+d^2} $\n",
    "    \n",
    "Thus, because the two expressions are equal, we know that $\\overline{z/w}=\\frac{\\overline{z}}{\\overline{w}}$\n"
   ]
  },
  {
   "cell_type": "markdown",
   "metadata": {},
   "source": [
    "## Question 3\n",
    "\n",
    "Complex exponentials: Express the following numbers in form $re^{i\\theta}$ where $r>0$ and $0<\\theta<2\\pi$.\n",
    "\n",
    "(i) $z=5i$ or $[x,iy]=[0,5]$.  We can calculate $r$ and $\\theta$ via the following:\n",
    "\n",
    "$ r = \\sqrt{x^2+y^2} = \\sqrt{25}=5$\n",
    "\n",
    "$\\theta = {\\rm atan}\\,\\left(\\frac{y}{x}\\right)  = {\\rm atan} \\, \\left(\\frac{1}{0}\\right)  = {\\rm atan} \\, \\left(\\infty\\right)  = \\pi/2$\n",
    "\n",
    "Thus, $z=re^{i\\theta} = 5e^{i\\pi/2}$\n",
    "\n",
    "-----\n",
    "\n",
    "(ii) $z=-7+7i$ or $[x,iy]=[-7,7]$.  We can calculate $r$ and $\\theta$ via the following:\n",
    "\n",
    "$ r = \\sqrt{x^2+y^2} = \\sqrt{(-7)^2+7^2}=7\\sqrt{2}$\n",
    "\n",
    "$\\theta = {\\rm atan}\\,\\left(\\frac{y}{x}\\right) = {\\rm atan} \\, \\left(\\frac{7}{-7}\\right)  = 3\\pi/4$\n",
    "\n",
    "Thus, $z=re^{i\\theta} = 7\\sqrt{2}e^{i3\\pi/4}$\n",
    "\n",
    "-----\n",
    "\n",
    "(iii) $z=-4-4\\sqrt{3}i$ or $[x,iy]=[-4,-4\\sqrt{3}]$.  We can calculate $r$ and $\\theta$ via the following:\n",
    "\n",
    "$ r = \\sqrt{x^2+y^2} = \\sqrt{(-4)^2+(-4\\sqrt{3})^2}=\\sqrt{16+48}=8$\n",
    "\n",
    "$\\theta = {\\rm atan}\\,\\left(\\frac{y}{x}\\right) = {\\rm atan} \\, \\left(\\frac{-4\\sqrt{3}}{-4}\\right)  = 4\\pi/3$\n",
    "\n",
    "Thus, $z=re^{i\\theta} = 8e^{i4\\pi/3}$\n",
    "\n",
    "----\n",
    "\n",
    "(iv) $z=-1$ or $[x,iy]=[-1,0]$.  We can calculate $r$ and $\\theta$ via the following:\n",
    "\n",
    "$ r = \\sqrt{x^2+y^2} = \\sqrt{(-1)^2+(0)^2}=1$\n",
    "\n",
    "$\\theta = {\\rm atan}\\,\\left(\\frac{y}{x}\\right) = {\\rm atan} \\, \\left(\\frac{0}{-1}\\right)  = \\pi$\n",
    "\n",
    "Thus, $z=re^{i\\theta} = e^{i\\pi}$"
   ]
  },
  {
   "cell_type": "markdown",
   "metadata": {},
   "source": [
    "## Question 4\n",
    "\n",
    "Express the following as $z=x+iy$\n",
    "\n",
    "(i) $z=2e^{i3\\pi} = 2e^{i\\pi}e^{i2\\pi}=2e^{i\\pi}= -2 $\n",
    "\n",
    "---\n",
    "\n",
    "(ii) $z=e^{i 13\\pi/4}$.  Let's first simplify: $z = e^{i \\frac{5\\pi}{4}}e^{i 8\\pi/4} = e^{i \\frac{5\\pi}{4}}$\n",
    "\n",
    "Let's then use the following\n",
    "\n",
    "$z = r (\\cos \\theta +i\\sin \\theta) = 1 (\\cos \\frac{5\\pi}{4} +i \\sin \\frac{5\\pi}{4} ) = -\\frac{1}{\\sqrt{2}}(1+i)$\n",
    "\n",
    "---\n",
    "\n",
    "(iii) $z=7e^{-i \\frac{\\pi}{6}}$.  \n",
    "\n",
    "Let's use the following\n",
    "\n",
    "$z = r (\\cos \\theta +i\\sin \\theta) = 7 (\\cos \\frac{\\pi}{6} -i \\sin \\frac{\\pi}{6} ) = -7\\left( \\frac{\\sqrt{3}}{2}-\\frac{i}{2} \\right)$\n",
    "\n",
    "---\n",
    "\n",
    "(iv) $z=7e^{-i \\frac{\\pi}{2}}$.  \n",
    "\n",
    "Let's use the following\n",
    "\n",
    "$z = r (\\cos \\theta +i\\sin \\theta) = (\\cos \\frac{\\pi}{2} -i \\sin \\frac{\\pi}{2} ) = -i$\n"
   ]
  },
  {
   "cell_type": "markdown",
   "metadata": {},
   "source": [
    "## Question 5\n",
    "\n",
    "What do the following regions look like\n",
    "\n",
    "(i) An annulus defined by $r<|z-c|<R$"
   ]
  },
  {
   "cell_type": "code",
   "execution_count": 10,
   "metadata": {},
   "outputs": [
    {
     "data": {
      "image/png": "[encoded data removed]",
      "text/plain": [
       "<Figure size 432x288 with 1 Axes>"
      ]
     },
     "metadata": {},
     "output_type": "display_data"
    }
   ],
   "source": [
    "## . . Define x and iy symbolically\n",
    "x,iy = symbols(\"x iy\")\n",
    "\n",
    "cx,cy,r,R = 0,0,0,0;\n",
    "\n",
    "## . . Plot the regions using the Sympy plot_implicit function that can take inequalities\n",
    "plot_implicit((x-cx)**2+(iy-cy)**2 <0,(x,-5,5),(iy,-3.5,3.5),title='$r<|z-c|<R$')\n",
    "\n",
    "## . .  Look at the figures\n",
    "mpl.show()"
   ]
  },
  {
   "cell_type": "markdown",
   "metadata": {},
   "source": [
    "(ii) A infinite open sector defined by  $α<arg(z)<β$"
   ]
  },
  {
   "cell_type": "code",
   "execution_count": 12,
   "metadata": {},
   "outputs": [
    {
     "data": {
      "image/png": "[encoded data removed]",
      "text/plain": [
       "<Figure size 432x288 with 1 Axes>"
      ]
     },
     "metadata": {},
     "output_type": "display_data"
    }
   ],
   "source": [
    "## . . Define x and iy symbolically\n",
    "x,iy = symbols(\"x iy\")\n",
    "\n",
    "cx,cy,r,R = 0,0,0,0;\n",
    "\n",
    "## . . Plot the regions using the Sympy plot_implicit function that can take inequalities\n",
    "plot_implicit((x-cx)**2+(iy-cy)**2 <0,(x,-5,5),(iy,-3.5,3.5),title='$r<|z-c|<R$')\n",
    "\n",
    "## . .  Look at the figures\n",
    "mpl.show()"
   ]
  },
  {
   "cell_type": "markdown",
   "metadata": {},
   "source": [
    "(ii) A finite closed sector defined by  $α<arg(z)<β$  and  $r<|z|<R$"
   ]
  },
  {
   "cell_type": "code",
   "execution_count": 11,
   "metadata": {},
   "outputs": [
    {
     "data": {
      "image/png": "[encoded data removed]",
      "text/plain": [
       "<Figure size 432x288 with 1 Axes>"
      ]
     },
     "metadata": {},
     "output_type": "display_data"
    }
   ],
   "source": [
    "## . . Define x and iy symbolically\n",
    "x,iy = symbols(\"x iy\")\n",
    "\n",
    "cx,cy,r,R = 0,0,0,0;\n",
    "\n",
    "## . . Plot the regions using the Sympy plot_implicit function that can take inequalities\n",
    "plot_implicit((x-cx)**2+(iy-cy)**2 <0,(x,-5,5),(iy,-3.5,3.5),title='$r<|z-c|<R$')\n",
    "\n",
    "## . .  Look at the figures\n",
    "mpl.show()"
   ]
  },
  {
   "cell_type": "markdown",
   "metadata": {},
   "source": [
    "## Question 6\n",
    "\n",
    "What do the following regions look like\n",
    "\n",
    "(i) $\\left|3z-6\\right|\\le 9$"
   ]
  },
  {
   "cell_type": "code",
   "execution_count": 13,
   "metadata": {},
   "outputs": [
    {
     "data": {
      "image/png": "[encoded data removed]",
      "text/plain": [
       "<Figure size 432x288 with 1 Axes>"
      ]
     },
     "metadata": {},
     "output_type": "display_data"
    }
   ],
   "source": [
    "## . . Define x and iy symbolically\n",
    "x,iy = symbols(\"x iy\")\n",
    "\n",
    "cx,cy,r,R = 0,0,0,0;\n",
    "\n",
    "## . . Plot the regions using the Sympy plot_implicit function that can take inequalities\n",
    "plot_implicit((x-cx)**2+(iy-cy)**2 <0,(x,-5,5),(iy,-3.5,3.5),title='$r<|z-c|<R$')\n",
    "\n",
    "## . .  Look at the figures\n",
    "mpl.show()"
   ]
  },
  {
   "cell_type": "markdown",
   "metadata": {},
   "source": [
    "(ii)  $\\left|\\frac{z-1}{1+z}\\right|<1$"
   ]
  },
  {
   "cell_type": "code",
   "execution_count": 14,
   "metadata": {},
   "outputs": [
    {
     "data": {
      "image/png": "[encoded data removed]",
      "text/plain": [
       "<Figure size 432x288 with 1 Axes>"
      ]
     },
     "metadata": {},
     "output_type": "display_data"
    }
   ],
   "source": [
    "## . . Define x and iy symbolically\n",
    "x,iy = symbols(\"x iy\")\n",
    "\n",
    "cx,cy,r,R = 0,0,0,0;\n",
    "\n",
    "## . . Plot the regions using the Sympy plot_implicit function that can take inequalities\n",
    "plot_implicit((x-cx)**2+(iy-cy)**2 <0,(x,-5,5),(iy,-3.5,3.5),title='$r<|z-c|<R$')\n",
    "\n",
    "## . .  Look at the figures\n",
    "mpl.show()"
   ]
  },
  {
   "cell_type": "markdown",
   "metadata": {},
   "source": [
    "(iii)  $|z| \\le |1-z|$"
   ]
  },
  {
   "cell_type": "code",
   "execution_count": 15,
   "metadata": {},
   "outputs": [
    {
     "data": {
      "image/png": "[encoded data removed]",
      "text/plain": [
       "<Figure size 432x288 with 1 Axes>"
      ]
     },
     "metadata": {},
     "output_type": "display_data"
    }
   ],
   "source": [
    "## . . Define x and iy symbolically\n",
    "x,iy = symbols(\"x iy\")\n",
    "\n",
    "cx,cy,r,R = 0,0,0,0;\n",
    "\n",
    "## . . Plot the regions using the Sympy plot_implicit function that can take inequalities\n",
    "plot_implicit((x-cx)**2+(iy-cy)**2 <0,(x,-5,5),(iy,-3.5,3.5),title='$r<|z-c|<R$')\n",
    "\n",
    "## . .  Look at the figures\n",
    "mpl.show()"
   ]
  },
  {
   "cell_type": "markdown",
   "metadata": {},
   "source": [
    "## Question 7\n",
    "\n",
    "**Q:** Prove **de Moivre's Theorem**: \n",
    "\n",
    "$$ \\left(\\cos\\,\\theta+i\\sin\\,\\theta\\right)^{n}=\\cos\\,n\\theta+i\\sin\\,n\\theta $$\n",
    "\n",
    "where $n$ is an integer. (Hint: Euler's Theorem makes it straightforward ...)\n",
    "\n",
    "**A:** We recognize that the left hand side may be written as:\n",
    "\n",
    "$$ \\left(\\cos\\,\\theta+i\\sin\\,\\theta\\right)^{n} = \\left(e^{i\\theta}\\right)^{n} = e^{in\\theta} = \\cos n\\theta+i\\sin n\\theta$$"
   ]
  },
  {
   "cell_type": "markdown",
   "metadata": {},
   "source": [
    "## Question 8\n",
    "\n",
    "**Q:**  By squaring $e^{i\\theta}=\\mathrm{cos}\\, \\theta + i\\,\\mathrm{sin} \\theta$, find formulas for $\\mathrm{cos}\\,2\\theta$ and $\\mathrm{sin}\\,2\\theta$ in terms of $\\mathrm{cos}\\,\\theta$ and $\\mathrm{sin}\\,\\theta$.\n",
    "\n",
    "**A:** Let's write the following:\n",
    "\n",
    "$(e^{i\\theta})^2  = e^{i2\\theta} = \\cos 2\\theta + i \\sin 2\\theta ,\\tag{8-1}$\n",
    "\n",
    "We also have the following:\n",
    "\n",
    "$(e^{i\\theta})^2 = \\left( \\cos \\theta+i\\sin\\theta  \\right)^2 =\\cos^2\\theta -2i\\sin\\theta\\cos\\theta -\\sin^2\\theta\\tag{8-2}$\n",
    "\n",
    "Equation 8-1 and 8-2 and grouping the real and imaginary contributions yields:\n",
    "\n",
    "$\\cos 2\\theta = \\cos^2\\theta-\\sin^2\\theta \\tag{8-3}$\n",
    "\n",
    "$\\sin 2\\theta = \\sin \\theta\\cos\\theta \\tag{8-4}$"
   ]
  },
  {
   "cell_type": "markdown",
   "metadata": {},
   "source": [
    "## Question 9\n",
    "\n",
    "**Q:** Find formulas for $\\mathrm{cos}\\,3\\theta$ and $\\mathrm{sin}\\,3\\theta$ in terms of $\\mathrm{cos}\\,\\theta$ and $\\mathrm{sin}\\,\\theta$.\n",
    "\n",
    "**A:** We may use the same approach as in Question 8\n",
    "\n",
    "Let's take the third power of the $e^{i\\theta}$\n",
    "\n",
    "$$\\left( e^{i\\theta}\\right)^3 = e^{i3\\theta} = \\cos 3\\theta + i\\sin 3\\theta \\tag{9-1}$$\n",
    "\n",
    "Now's let's expand out directly:\n",
    "\n",
    "$$\\left( e^{i\\theta}\\right)^3 =\\left(\\cos \\theta + i\\sin\\theta\\right)^3 = \\cos^3\\theta +3i\\cos^2 \\theta \\sin\\theta - 3\\cos\\theta \\sin^2 \\theta - i \\sin^3 \\theta \\tag{9-2}$$ \n",
    "\n",
    "Equating the real terms yields:\n",
    "\n",
    "$$\\cos 3\\theta = \\cos^3\\theta-3\\sin^2\\theta\\cos\\theta \\tag{9-3}$$\n",
    "\n",
    "and equation the imaginary terms gives:\n",
    "\n",
    "$$\\sin 3\\theta = -\\sin^3\\theta +3\\cos^2\\theta \\sin\\theta \\tag{9-4}$$"
   ]
  },
  {
   "cell_type": "markdown",
   "metadata": {},
   "source": [
    "## Question 10\n",
    "\n",
    "(i) $z^2+4=0$.  Let's rearrange this to be and put in polar form\n",
    "\n",
    "$$z^2=-4 = 4e^{i\\pi+2in\\pi}, \\quad n=0,\\pm 1, \\pm 2, ...$$\n",
    "\n",
    "where $n$ is an integer.  Thus, we have\n",
    "\n",
    "$$\\sqrt{z^2} = z = \\left(4e^{i\\pi+2in\\pi}\\right)^\\frac{1}{2} = 2\\left( e^{i\\pi+2in\\pi } \\right)^\\frac{1}{2} = 2 e^{i\\pi/2+in\\pi}  \\quad n=0,\\pm 1, \\pm 2, ...$$\n",
    "\n",
    "or $z = 2i$ or $z=-2i$."
   ]
  },
  {
   "cell_type": "code",
   "execution_count": 37,
   "metadata": {},
   "outputs": [
    {
     "data": {
      "image/png": "[encoded data removed]",
      "text/plain": [
       "<Figure size 432x288 with 1 Axes>"
      ]
     },
     "metadata": {},
     "output_type": "display_data"
    }
   ],
   "source": [
    "def argand(a):\n",
    "    for x in range(len(a)):\n",
    "        plt.plot([0,a[x].real],[0,a[x].imag],'ro-',label='python')\n",
    "    plt.ylabel('Imaginary')\n",
    "    plt.xlabel('Real')\n",
    "    plt.axis('square')\n",
    "\n",
    "nn = np.arange(0,100,1)\n",
    "a = 2*np.exp(1j*np.pi*(1/2+nn))\n",
    "argand(a)\n",
    "plt.xlim((-2.5,2.5))\n",
    "plt.ylim((-2.5,2.5))\n",
    "plt.show()"
   ]
  },
  {
   "cell_type": "markdown",
   "metadata": {},
   "source": [
    "(ii) $z^3-8=0$.  Let's rearrange this to be and put in polar form\n",
    "\n",
    "$$z^3=8 = 8e^{i2n\\pi}  \\quad n=0,\\pm 1, \\pm 2, ...$$\n",
    "\n",
    "where $n$ is an integer.  Thus, we have\n",
    "\n",
    "$$\\left(z^3\\right)^\\frac{1}{3} = z = \\left(8e^{2in\\pi}\\right)^\\frac{1}{3} = 2\\left( e^{2in\\pi } \\right)^\\frac{1}{3} = 2 e^{i2n\\pi/3}  \\quad n=0,\\pm 1, \\pm 2, ... $$\n",
    "\n",
    "or $z = 2$, $z=2e^{i2\\pi n/3}$ or $z=2e^{i4\\pi n/3}$."
   ]
  },
  {
   "cell_type": "code",
   "execution_count": 38,
   "metadata": {},
   "outputs": [
    {
     "data": {
      "image/png": "[encoded data removed]",
      "text/plain": [
       "<Figure size 432x288 with 1 Axes>"
      ]
     },
     "metadata": {},
     "output_type": "display_data"
    }
   ],
   "source": [
    "a = 2*np.exp(1j*2*np.pi*nn/3)\n",
    "argand(a)\n",
    "plt.xlim((-2.5,2.5))\n",
    "plt.ylim((-2.5,2.5))\n",
    "plt.show()"
   ]
  },
  {
   "cell_type": "markdown",
   "metadata": {},
   "source": [
    "(iii) $z^3+i=0$.  Let's rearrange this to be and put in polar form\n",
    "\n",
    "$$z^3 = -i = e^{i3\\pi/2+i2\\pi n},  \\quad n=0,\\pm 1, \\pm 2, ...$$\n",
    "\n",
    "where $n$ is an integer.  Thus, we have\n",
    "\n",
    "$$\\left(z^3\\right)^\\frac{1}{3} = z = \\left(e^{i3\\pi/2+i2\\pi n}\\right)^\\frac{1}{3} = e^{i\\pi/2+i2\\pi n/3}  \\quad n=0,\\pm 1, \\pm 2, ... $$\n",
    "\n",
    "or $z = i$, $z=\\frac{\\sqrt{3}}{2}-\\frac{i}{2}$ or $z=-\\frac{\\sqrt{3}}{2}-\\frac{i}{2}$."
   ]
  },
  {
   "cell_type": "code",
   "execution_count": 40,
   "metadata": {},
   "outputs": [
    {
     "data": {
      "image/png": "[encoded data removed]",
      "text/plain": [
       "<Figure size 432x288 with 1 Axes>"
      ]
     },
     "metadata": {},
     "output_type": "display_data"
    }
   ],
   "source": [
    "a = np.exp(1j*np.pi/2+1j*2*np.pi*nn/3)\n",
    "argand(a)\n",
    "plt.xlim((-2.5,2.5))\n",
    "plt.ylim((-2.5,2.5))\n",
    "plt.show()"
   ]
  },
  {
   "cell_type": "markdown",
   "metadata": {},
   "source": [
    "## Question 11\n",
    "\n",
    "**Q:** Find out (and give a reason) whether $f(z)$ is continuous at $z=0$ if $f(0)=0$ and for $z\\neq0$ the function is equal to:\n",
    "\n",
    "(i)  $\\Im{(z)}/(1-|z|)$.  $\\Im(z) = r\\sin \\theta$ and $|z|=r$\n",
    "\n",
    "Thus, \n",
    "\n",
    "$$\\Im{(z)}/(1-|z|) \\rightarrow \\frac{r\\sin\\theta}{1-r}$$\n",
    "\n",
    "Now\n",
    "\n",
    "$$\\lim_{r\\rightarrow 0} \\frac{r\\sin\\theta}{1-r} = 0$$\n",
    "\n",
    "regardless of the direction of $\\theta$. Thus, the function in continuous at $z=0$ because $f(0)=0$ is defined.\n",
    "\n",
    "---\n",
    "\n",
    "(ii) $\\frac{[\\Im{(z^2)}]}{|z|^2}$\n",
    "\n",
    "Let $z^2 = (re^{i\\theta})^2 = r^2 e^{2i\\theta}$ and $|z|^2=r^2$. Inserting this into the above yields:\n",
    "\n",
    "$$\\frac{[\\Im{(z^2)}]}{|z|^2} \\rightarrow \\frac{r^2 \\sin2\\theta}{r^2} = \\sin 2\\theta.$$\n",
    "\n",
    "Now\n",
    "\n",
    "$$\\lim_{r\\rightarrow 0} \\sin2\\theta = \\sin2\\theta,$$\n",
    "\n",
    "which is dependent on the value of $\\theta$ and therefore the direction.  Thus, the function in not continuous at $z=0$ because $f(0)$ is not uniquely defined."
   ]
  },
  {
   "cell_type": "markdown",
   "metadata": {},
   "source": [
    "## Question 12\n",
    "\n",
    "(i) $f(z) = \\left(z^3 + i\\right)^2 = z^6+2iz^3-1 $\n",
    "\n",
    "Let's use the fundamental definition of the derivative\n",
    "\n",
    "$$ f^\\prime(z) = \\lim_{\\Delta z\\rightarrow 0}\\frac{f(z+\\Delta z) -f(z)}{\\Delta z} = \\frac{(z+\\Delta z)^6+2i(z+\\Delta z)^3 - 1 - (z^6+2iz^3-1)}{\\Delta z} = \\frac{(z+\\Delta z)^6+2i(z+\\Delta z)^3  - (z^6+2iz^3)}{\\Delta z}$$\n",
    "\n",
    "Let's expand just the leading order terms\n",
    "\n",
    "$$ \\lim_{\\Delta z\\rightarrow 0} \\frac{z^6+6z^5\\Delta z + \\mathcal{O}(z^4,\\Delta z^2)+2i(z^3 + 3z^2\\Delta z + \\mathcal{O}(z^2,\\Delta z^2) ) - (z^6+2iz^3)}{\\Delta z} = \\lim_{\\Delta z\\rightarrow 0} \\frac{6z^5\\Delta z + \\mathcal{O}(z^4,\\Delta z^2)+2i(3z^2\\Delta z + \\mathcal{O}(z^2,\\Delta z^2) )}{\\Delta z}$$\n",
    "\n",
    "Thus,\n",
    "\n",
    "$$f^\\prime(z) = \\lim_{\\Delta z\\rightarrow 0} 6z^5+ \\mathcal{O}(z^4,\\Delta z)+2i(3z^2 + \\mathcal{O}(z^2,\\Delta z) ) = 6z^2(z^3+i)$$\n",
    "\n",
    "---\n",
    "\n",
    "(ii) $f(z) =\\frac{i}{(1-z)^2}$\n",
    "\n",
    "Now\n",
    "\n",
    "$$f^\\prime(z) = \\lim_{\\Delta z\\rightarrow 0}\\frac{f(z+\\Delta z) -f(z)}{\\Delta z} = \\lim_{\\Delta z\\rightarrow 0}\n",
    "\\frac{i}{\\Delta z}\\left[ \\frac{1}{(1-z-\\Delta z)^2} - \\frac{1}{(1-z)^2} \\right]\n",
    "=\n",
    "\\lim_{\\Delta z\\rightarrow 0}\\frac{i}{\\Delta z}\\left[ \\frac{(1-z)^2-(1-z-\\Delta z)^2}{(1-z-\\Delta z)^2(1-z)^2} \\right]\n",
    "$$\n",
    "Expanding yields:\n",
    "\n",
    "$$f^\\prime(z) =\\lim_{\\Delta z\\rightarrow 0} \\frac{i}{\\Delta z}\\left[ \\frac{1-2z+z^2-(1-2(z+\\Delta z)+z^2+2z\\Delta z +\\Delta z^2)}{(1-z-\\Delta z)^2(1-z)^2} \\right]\n",
    "=\n",
    "\\lim_{\\Delta z\\rightarrow 0}\\frac{i}{\\Delta z}\\left[ \\frac{2\\Delta z-2z\\Delta z - \\Delta z^2}{(1-z-\\Delta z)^2(1-z)^2} \\right]\n",
    "=\n",
    "\\lim_{\\Delta z\\rightarrow 0} i\\left[ \\frac{2-2z - \\Delta z}{(1-z-\\Delta z)^2(1-z)^2} \\right]\n",
    "$$\n",
    "\n",
    "Therefore, taking the limit yields\n",
    "\n",
    "$$f^\\prime(z) = 2i\\left[ \\frac{(1-z)}{(1-z)^2(1-z)^2} \\right] =   \\frac{2i}{(1-z)^3}\n",
    "$$"
   ]
  },
  {
   "cell_type": "markdown",
   "metadata": {},
   "source": [
    "## Question 13\n",
    "\n",
    "(i) $w=f(z) = z^4 = (x+iy)^4 = x^4 + 4x^3(iy) + 6x^2(iy)^2+4x(iy)^3+(iy)^4 = x^4+4ix^3y - 6x^2y^2-4ixy^3+y^4$\n",
    "\n",
    "(Hint: use the Binomial theorem for rapid expansion of terms.)\n",
    "\n",
    "Thus\n",
    "\n",
    "$$ u = \\Re(w) = x^4-6x^2y^2+y^4$$\n",
    "$$ v = \\Im(w) = 4x^3y -4xy^3$$\n",
    "\n",
    "Thus, \n",
    "\n",
    "$$\\frac{\\partial u}{\\partial x} =4x^3-12xy^2, \\quad \\frac{\\partial u}{\\partial y} = 4y^3-12yx^2$$\n",
    "$$\\frac{\\partial v}{\\partial x} = -4xy^3+12x^2y, \\quad \\frac{\\partial v}{\\partial y} = 4x^3-12xy^2$$\n",
    "\n",
    "Thus, because the function satisfies the Cauchy-Riemann conditions, $\\frac{\\partial u}{\\partial x} =\\frac{\\partial v}{\\partial y}$ and $\\frac{\\partial u}{\\partial y} = -\\frac{\\partial v}{\\partial x}$, we know that the function is analytic.\n",
    "\n",
    "---\n",
    "\n",
    "(ii) $w=f(z) = e^{2x}\\left(\\mathrm{cos}\\, y + i  \\,\\mathrm{sin} \\, y\\right)$\n",
    "\n",
    "$$ u = \\Re(w) = e^{2x}\\cos y $$\n",
    "$$ v = \\Im(w) = e^{2x}\\sin y $$\n",
    "\n",
    "$$\\frac{\\partial u}{\\partial x} = 2e^{2x}\\cos y, \\quad \\frac{\\partial u}{\\partial y} = 2e^{2x}\\sin y$$\n",
    "$$\\frac{\\partial v}{\\partial x} = -e^{2x}\\sin y, \\quad \\frac{\\partial v}{\\partial y} =  e^{2x}\\cos y$$\n",
    "\n",
    "Thus, because the function does not satisfy the Cauchy-Riemann conditions, $\\frac{\\partial u}{\\partial x} =\\frac{\\partial v}{\\partial y}$ and $\\frac{\\partial u}{\\partial y} = -\\frac{\\partial v}{\\partial x}$, we know that the function is not analytic.\n"
   ]
  },
  {
   "cell_type": "code",
   "execution_count": null,
   "metadata": {
    "collapsed": true
   },
   "outputs": [],
   "source": []
  }
 ],
 "metadata": {
  "anaconda-cloud": {},
  "kernelspec": {
   "display_name": "Python 3",
   "language": "python",
   "name": "python3"
  },
  "language_info": {
   "codemirror_mode": {
    "name": "ipython",
    "version": 3
   },
   "file_extension": ".py",
   "mimetype": "text/x-python",
   "name": "python",
   "nbconvert_exporter": "python",
   "pygments_lexer": "ipython3",
   "version": "3.5.3"
  }
 },
 "nbformat": 4,
 "nbformat_minor": 1
}
