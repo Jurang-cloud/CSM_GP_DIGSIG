{
 "cells": [
  {
   "cell_type": "markdown",
   "metadata": {},
   "source": [
    "# 3.2 Discrete-Time Signals  - Problems\n",
    "\n",
    "The purpose of this document is to give you a number of problems to solve regarding the folowing topics: linearity, time-invariance, memory/causality, and stability.  They involve analysing the a system\n",
    "\n",
    "$$ y[n] = \\mathcal{T}\\left(x[n]\\right), \\tag{1}$$\n",
    "\n",
    "where $x[n]$ is the input,  $\\mathcal{T}(\\cdot)$ is some operator applied to the input, and $y[n]$ is the output response."
   ]
  },
  {
   "cell_type": "markdown",
   "metadata": {},
   "source": [
    "## Linearity\n",
    "\n",
    "Determine which of the systems below are **linear**.\n",
    "\n",
    "**(Q1-1)**$$y[n] = \\mathrm{log}(x[n])  \\tag{2}$$"
   ]
  },
  {
   "cell_type": "markdown",
   "metadata": {
    "collapsed": true
   },
   "source": [
    "**A:** If the system is homogeneous then \n",
    "\n",
    "$$y[n]=\\mathcal{T}(c x[n])= c\\mathcal{T}(x[n])  \\tag{3}$$\n",
    "\n",
    "for any input $x[n]$ and for all complex constants $c$.  The system $y[n]=\\mathrm{log}(x[n])$ is **not homogeneous** because the response of the system to $x_1[n]=c x[n]$ is\n",
    "\n",
    "$$y_1[n] = \\mathrm{log}(x_1[n]) = \\mathrm{log}(c x[n]) = \\mathrm{log}(c)+\\mathrm{log}(x[n]) \\neq c\\,\\mathrm{log}(x[n]).  \\tag{4}$$\n",
    "\n",
    "To be additive, the response to $x[n] = x_1[n]+x_2[n]$ must be $y[n]=y_1[n]+y_2[n]$.  For this system we have\n",
    "\n",
    "$$\\mathcal{T}(x[n]) = \\mathcal{T}(x_1[n]+x_2[n]) = \\mathrm{log}(x_1[n]+x_2[n]) \\neq \\mathrm{log}(x_1[n])+\\mathrm{log}(x_2[n]).  \\tag{5}$$\n",
    "\n",
    "Thus, the system is **not additive**.  Overall the system is **non-linear**."
   ]
  },
  {
   "cell_type": "markdown",
   "metadata": {},
   "source": [
    "**(Q1-2)** $$y[n] = 6x[n+2]+4x[n+1]+2x[n]  \\tag{6}$$"
   ]
  },
  {
   "cell_type": "markdown",
   "metadata": {},
   "source": [
    "**A:** If the system is homogeneous than \n",
    "\n",
    "$$y[n]=\\mathcal{T}(c x[n])= c\\mathcal{T}(x[n]) \\tag{7}$$\n",
    "\n",
    "Thus for $x_1[n]=c\\,x[n]$ we get\n",
    "\n",
    "$$y_1[n] = 6x_1[n+2]+4x_1[n+1]+2x_1[n] = c6x[n+2]+c4x[n+1]+c2x[n] = c(6x[n+2]+4x[n+1]+2x[n])=cy[n].  \\tag{8}$$\n",
    "\n",
    "Thus, the system is **homogeneous**.\n",
    "\n",
    "To be additive, the response to $x[n] = x_1[n]+x_2[n]$ must be $y[n]=y_1[n]+y_2[n]$.  For this system we have\n",
    "\n",
    "$$\n",
    "\\begin{eqnarray}\n",
    "\\mathcal{T}(x_1[n]+x_2[n]) &=& 6(x_1[n+2]+x_2[n+2])+4(x_1[n+1]+x_2[n+1])+2(x_1[n]+x_2[n])  \\tag{9a}\\\\\n",
    "\\,  &=& \\left(6x_1[n+2]+4x_1[n+1]+2x_1[n]\\right)  + \\left(6x_2[n+2]+4x_2[n+1]+2x_2[n]\\right)  \\tag{9b}\\\\\n",
    "\\,  &=& y_1[n] + y_2[n]  \\tag{9c}\n",
    "\\end{eqnarray}\n",
    "$$\n",
    "Thus, the system is **additive**.  Overall, because the system is **additive and homogeneous** it is **linear**."
   ]
  },
  {
   "cell_type": "markdown",
   "metadata": {},
   "source": [
    "**(Q1-3)** $$y[n] = 6x[n+2]+4x[n+1]+2x[n]+1 \\tag{10}$$"
   ]
  },
  {
   "cell_type": "markdown",
   "metadata": {},
   "source": [
    "**A:** If the system is homogeneous than \n",
    "\n",
    "$$y[n]=\\mathcal{T}(c x[n])= c\\mathcal{T}(x[n]) \\tag{11}$$\n",
    "\n",
    "Thus for $x_1[n]=c\\,x[n]$ we get\n",
    "\n",
    "$$\n",
    "\\begin{eqnarray}\n",
    "y_1[n] &=& 6x_1[n+2]+4x_1[n+1]+2x_1[n]+1, \\tag{12a}\\\\\n",
    " &=&  c6x[n+2]+c4x[n+1]+c2x[n] +1, \\tag{12b}\\\\\n",
    "\\,&=& c(6x[n+2]+4x[n+1]+2x[n]) +1. \\tag{12c}\n",
    "\\end{eqnarray} \n",
    "$$\n",
    "\n",
    "However,\n",
    "\n",
    "$$cy[n] = c(6x[n+2]+4x[n+1]+2x[n] +1) \\tag{13}$$\n",
    "\n",
    "Thus, the system is **not homogeneous**.\n",
    "\n",
    "To be additive, the response to $x[n] = x_1[n]+x_2[n]$ must be $y[n]=y_1[n]+y_2[n]$.  For this system we have\n",
    "\n",
    "$$\n",
    "\\begin{eqnarray}\n",
    "\\mathcal{T}(x_1[n]+x_2[n]) &=& 6(x_1[n+2]+x_2[n+2])+4(x_1[n+1]+x_2[n+1])+2(x_1[n]+x_2[n]) +1 \\tag{14q}\\\\\n",
    "\\,  &=& \\left(6x_1[n+2]+4x_1[n+1]+2x_1[n]\\right)  + \\left(6x_2[n+2]+4x_2[n+1]+2x_2[n]\\right) +1 \\tag{14b}\\\\\n",
    "\\,  &\\neq& y_1[n] + y_2[n] = (6x_1[n+2]+4x_1[n+1]+2x_1[n] +1) + (6x_2[n+2]+4x_2[n+1]+2x_2[n] +1) \\tag{14c}\\\\\n",
    "&=&\\left(6x_1[n+2]+4x_1[n+1]+2x_1[n]\\right)  + \\left(6x_2[n+2]+4x_2[n+1]+2x_2[n]\\right) +2 \\tag{14d}\n",
    "\\end{eqnarray}\n",
    "$$\n",
    "\n",
    "Thus, the system is **not additive**. Thus, because the system is both **not additive and homogeneous**, it is a **non-linear** system."
   ]
  },
  {
   "cell_type": "markdown",
   "metadata": {},
   "source": [
    "**(Q1-4)**  $$y[n] = \\mathrm{sin}\\left( \\frac{n\\pi}{2}\\right) x[n] \\tag{15}$$"
   ]
  },
  {
   "cell_type": "markdown",
   "metadata": {},
   "source": [
    "**A:** Let's examine homogeneity and additivity at the same time.  Let $y_1[n]$ and $y_2[n]$ the outputs to $x_1[n]$ and $x_2[n]$, respectively.  The response of the system to \n",
    "\n",
    "$$x[n] = a\\,x_1[n]+b\\,x_2[n] \\tag{16}$$ \n",
    "\n",
    "is\n",
    "\n",
    "$$\n",
    "\\begin{eqnarray}\n",
    "y[n] &=& \\mathrm{sin}\\left( \\frac{n\\pi}{2}\\right) x[n] \\tag{17a}\\\\\n",
    "\\,   &=& \\mathrm{sin}\\left( \\frac{n\\pi}{2}\\right) \\left( a\\, x_1[n]+b\\, x_2[n]\\right) \\tag{17b}\\\\\n",
    "\\,   &=& \\mathrm{sin}\\left( \\frac{n\\pi}{2}\\right) a\\, x_1[n] + \\mathrm{sin}\\left( \\frac{n\\pi}{2}\\right)b x_2[n] \\tag{17c}\\\\\n",
    "\\,   &=&a\\,y_1[n] + b\\,y_2[n] \\tag{17d}\\\\\n",
    "\\end{eqnarray}\n",
    "$$\n",
    "\n",
    "where\n",
    "\n",
    "$$y_1[n] = \\mathrm{sin}\\left( \\frac{n\\pi}{2}\\right) x_1[n] \\quad {\\rm and} \\quad  y_2[n] = \\mathrm{sin}\\left( \\frac{n\\pi}{2}\\right) x_2[n].\\tag{18}$$\n",
    "\n",
    "Thus, this system is both **homogeneous** and **additive**, and is **linear**.\n"
   ]
  },
  {
   "cell_type": "markdown",
   "metadata": {},
   "source": [
    "## Time Invariance\n",
    "\n",
    "Determine which of the systems below are **shift-invariant**:\n",
    "\n",
    "**(Q2-1)** $$y[n]= x[n]+x[n-1]+x[n-2] \\tag{19}$$"
   ]
  },
  {
   "cell_type": "markdown",
   "metadata": {},
   "source": [
    "**A:** Let $y[n]$ be the response of the system to an arbitrary input $x[n]$.  To test for shift invariance we want to compare the shifted response $y[n-n_0]$ to the shifted input $x[n-n_0]$. With\n",
    "\n",
    "$$y[n]= x[n]+x[n-1]+x[n-2], \\tag{20}$$\n",
    "\n",
    "we have, for the shifted response $n\\rightarrow n-n_0$:\n",
    "\n",
    "$$y[n-n_0]= x[n-n_0]+x[n-1-n_0]+x[n-2-n_0].\\tag{21}$$\n",
    "\n",
    "Now, the response of the system to $x_1[n] = x[n-n_0]$ is\n",
    "\n",
    "$$\n",
    "\\begin{eqnarray}\n",
    "y_1[n] &=& x_1[n]+x_1[n-1]+x_1[n-2], \\tag{22a}\\\\\n",
    "&=& x[n-n_0] + x[n-n_0-1] + x[n-n_0-2], \\tag{22b}\\\\\n",
    "\\,    &=& y[n-n_0].\\tag{22c}\n",
    "\\end{eqnarray}\n",
    "$$\n",
    "\n",
    "Because $y_1[n] = y[n-n_0]$, the system is **time invariant**."
   ]
  },
  {
   "cell_type": "markdown",
   "metadata": {},
   "source": [
    "**(Q2-2)** $$ y[n] = \\sum_{k=-\\infty}^{n} x[k] \\tag{23}$$"
   ]
  },
  {
   "cell_type": "markdown",
   "metadata": {},
   "source": [
    "\n",
    "**A:** Let's shift $n\\rightarrow n-n_0$ in the equation above: \n",
    "\n",
    "$$ y[n-n_0] = \\sum_{k=-\\infty}^{n-n_0} x[k]\\tag{24}$$\n",
    "\n",
    "Now, let's define a system \n",
    "\n",
    "$$ y_1[n] = \\sum_{k=-\\infty}^{n} x_1[k]\\tag{25}$$\n",
    "\n",
    "where $x_1[n]=x[n-n_0]$.  The response of the system to the shifted input is\n",
    "\n",
    "$$\n",
    "\\begin{eqnarray}\n",
    "y_1[n] &=& \\sum_{k=-\\infty}^{n} x_1[k], \\tag{26a}\\\\\n",
    "&=& \\sum_{k=-\\infty}^{n} x[k-n_0], \\tag{26b}\\\\\n",
    "&=& \\sum_{l+n_0=-\\infty}^{n} x[l], \\quad l=k-n_0\\tag{26c}\\\\\n",
    "&=& \\sum_{l=-\\infty}^{n-n_0} x[l], \\tag{26d}\\\\\n",
    "&=& y[n-n_0]. \\tag{26e}\n",
    "\\end{eqnarray}\n",
    "$$\n",
    "\n",
    "Thus, because $y_1[n] = y[n-n_0]$ the system is **shift-invariant**.\n"
   ]
  },
  {
   "cell_type": "markdown",
   "metadata": {},
   "source": [
    "**(Q2-3)** $$y[n] = x[n^2] \\tag{27}$$"
   ]
  },
  {
   "cell_type": "markdown",
   "metadata": {},
   "source": [
    "\n",
    "**A:** The system is **not shift-invariant**, which may be demonstrated with a simple counterexample.  Note that if $x[n]=\\delta[n]$ then the response will be $y[n]=\\delta[n^2]=\\delta[n]$. However, if $x_1[n] = \\delta[n-2]$, then the response will be $y_1[n] = x_1[n^2] = \\delta[n^2-2]=0$, which is not equal to $y[n-2]$.  Thus, the system is **not shift-invariant**.\n"
   ]
  },
  {
   "cell_type": "markdown",
   "metadata": {},
   "source": [
    "**(Q2-4)** $$y[n] = x[-n] \\tag{28}$$"
   ]
  },
  {
   "cell_type": "markdown",
   "metadata": {},
   "source": [
    "**A:** Let $x[n]$ be the input and $y[n]=x[-n]$ be the response.   If we shift the index according to $n\\rightarrow n-n_0$, we obtain:\n",
    "\n",
    "$$y[n-n_0] = x[-(n-n_0)] = x[-n+n_0]. \\tag{29}$$\n",
    "\n",
    "However, if we consider the shifted input $x_1[n] = x[n-n_0]$, we find that the response is \n",
    "\n",
    "$$y_1[n] = x_1[-n] = x[-n-n_0] \\neq y[n-n_0]. \\tag{30}$$\n",
    "\n",
    "Therefore, because $y_1[n]\\neq y[n-n_0]$ this system is **shift-variant**.\n"
   ]
  },
  {
   "cell_type": "markdown",
   "metadata": {},
   "source": [
    "## Causal / Memory\n",
    "\n",
    "Determine which of the following systems are **causal**, and which have **memory**?\n",
    "\n",
    "**(Q3-1)** $$y[n] = x^2[n] u[n]  \\tag{31}$$"
   ]
  },
  {
   "cell_type": "markdown",
   "metadata": {},
   "source": [
    "**A:** The system $y[n]=x^2[n]u[n]$ is **memoryless** because the response of the system at time $n$ depends only on the input at time $n$ and no other values of the input.  Therefore, this system is **causal**."
   ]
  },
  {
   "cell_type": "markdown",
   "metadata": {},
   "source": [
    "**(Q3-2)** $$y[n] = x[|n|]  \\tag{32}$$"
   ]
  },
  {
   "cell_type": "markdown",
   "metadata": {},
   "source": [
    "\n",
    "**A:** The output $y[n]=x[|n|]$ is an example of a non-causal system. This can be observed when looking at the response of the system for $n<0$. For example, for $n=-1$ we get $y[-1]=x[1]$ and for n=1 we get $y[1]=x[1]$.  Therefore the output of the system is dependent on both future and current input.  Therefore, the system is **anticausal**.\n"
   ]
  },
  {
   "cell_type": "markdown",
   "metadata": {},
   "source": [
    "**(Q3-3)** $$ y[n] = x[n]+x[n-3]+x[n-1]  \\tag{33}$$"
   ]
  },
  {
   "cell_type": "markdown",
   "metadata": {},
   "source": [
    "**A:** This system is **causal** because all of the input required to compute the response at $n$ are at or before $n$.\n"
   ]
  },
  {
   "cell_type": "markdown",
   "metadata": {},
   "source": [
    "**(Q3-4)** $$ y[n] = x[n] - x[n^2-n]  \\tag{34}$$"
   ]
  },
  {
   "cell_type": "markdown",
   "metadata": {},
   "source": [
    "**A:** Let's evaluate a few values to see what the response is:\n",
    "\n",
    "$$\n",
    "\\begin{eqnarray}\n",
    "y[-1] &=& x[-1]-x[2]  \\tag{35a}\\\\\n",
    "y[0] &=& x[0]-x[0] \\tag{35b}\\\\\n",
    "y[1] &=& x[1]-x[0]\\tag{35c} \\\\\n",
    "y[2] &=& x[2]-x[2] \\tag{35d}\\\\\n",
    "y[3] &=& x[3]-x[6]\\tag{35e} \n",
    "\\end{eqnarray}\n",
    "$$\n",
    "\n",
    "Thus, the output $y[n]$ will always depend on the current input $x[n]$ as well as future input $x[m]$ where $m>n$. Thus, the system is **anticausal**.\n"
   ]
  },
  {
   "cell_type": "markdown",
   "metadata": {},
   "source": [
    "## Stability\n",
    "\n",
    "Determine which of the following systems are **stable**:\n",
    "\n",
    "**(Q4-1)** $$y[n] = x^2[n] \\tag{36}$$"
   ]
  },
  {
   "cell_type": "markdown",
   "metadata": {},
   "source": [
    "**A:** Let input signal $x[n]$ be bounded with $|x[n]|<M$.  Then it follows that the output $y[n]=x^2[n]$ may be bounded by \n",
    "\n",
    "$$|y[n]|=|x^2[n]|<M^2. \\tag{37}$$  \n",
    "\n",
    "Therefore, this system is **stable**."
   ]
  },
  {
   "cell_type": "markdown",
   "metadata": {},
   "source": [
    "**(Q4-2)** $$ y[n] = \\frac{e^{-x[n]}}{x[n-1]} \\tag{38}$$"
   ]
  },
  {
   "cell_type": "markdown",
   "metadata": {},
   "source": [
    "**A:** This system is clearly **not guaranteed to be stable** because one can devise examples where the denominator goes to zero. For example, note that the response of the system to a unit impulse $x[n]=\\delta[n]$ is infinite for all values of $n$ except $n=1$. \n"
   ]
  },
  {
   "cell_type": "markdown",
   "metadata": {},
   "source": [
    "**(Q4-3)** $$ y[n] = \\mathrm{cos}(x[n]) \\tag{39}$$"
   ]
  },
  {
   "cell_type": "markdown",
   "metadata": {},
   "source": [
    "**A:** For input $x[n]$, we find that the output response is bounded: $|y[n]| =|\\mathrm{cos}(x[n])| \\le 1$. Thus, the system is **stable**.\n"
   ]
  },
  {
   "cell_type": "markdown",
   "metadata": {},
   "source": [
    "**(Q4-4)** $$y[n] = \\sum_{k=-\\infty}^{n}x[k] \\tag{40}$$"
   ]
  },
  {
   "cell_type": "markdown",
   "metadata": {},
   "source": [
    "**A:** This system is a numerical integrator and is **stable**.  For any bounded input series $\\sum_{k=-\\infty}^{\\infty} |x[k]| < M$ we know that any output partial sum of these terms will also be bounded by $\\sum_{k=-\\infty}^{n} x[k] < M_1 < M$."
   ]
  },
  {
   "cell_type": "code",
   "execution_count": null,
   "metadata": {
    "collapsed": true
   },
   "outputs": [],
   "source": []
  }
 ],
 "metadata": {
  "kernelspec": {
   "display_name": "Python 3",
   "language": "python",
   "name": "python3"
  },
  "language_info": {
   "codemirror_mode": {
    "name": "ipython",
    "version": 3
   },
   "file_extension": ".py",
   "mimetype": "text/x-python",
   "name": "python",
   "nbconvert_exporter": "python",
   "pygments_lexer": "ipython3",
   "version": "3.6.2"
  }
 },
 "nbformat": 4,
 "nbformat_minor": 2
}
