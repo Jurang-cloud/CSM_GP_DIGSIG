{
 "cells": [
  {
   "cell_type": "markdown",
   "metadata": {},
   "source": [
    "# 3.2 Discrete-Time Signals  - Problems\n",
    "\n",
    "The purpose of this document is to give you a number of problems to solve regarding the folowing topics: linearity, time-invariance, memory/causality, and stability.  They involve analysing the a system\n",
    "\n",
    "$$ y[n] = \\mathcal{T}\\left(x[n]\\right),$$\n",
    "\n",
    "where $x[n]$ is the input,  $\\mathcal{T}(\\cdot)$ is some operator acting on the input, and $y[n]$ is the output response."
   ]
  },
  {
   "cell_type": "markdown",
   "metadata": {},
   "source": [
    "## Linearity\n",
    "\n",
    "Determine which of the systems below are **linear**.\n",
    "\n",
    "**(Q1-1)**$$y[n] = \\mathrm{log}(x[n])$$"
   ]
  },
  {
   "cell_type": "markdown",
   "metadata": {
    "collapsed": true
   },
   "source": [
    "**A:** If the system is homogeneous then \n",
    "\n",
    "$$y[n]=\\mathcal{T}(c x[n])= c\\mathcal{T}(x[n])$$\n",
    "\n",
    "for any input $x[n]$ and for all complex constants $c$.  The system $y[n]=\\mathrm{log}(x[n])$ is **not homogeneous** because the response of the system to $x_1[n]=c x[n]$ is\n",
    "\n",
    "$$y_1[n] = \\mathrm{log}(x_1[n]) = \\mathrm{log}(c x[n]) = \\mathrm{log}(c)+\\mathrm{log}(x[n]) \\neq c\\,\\mathrm{log}(x[n])$$.\n",
    "\n",
    "To be additive, the response to $x[n] = x_1[n]+x_2[n]$ must be $y[n]=y_1[n]+y_2[n]$.  For this system we have\n",
    "\n",
    "$$\\mathcal{T}(x[n]) = \\mathcal{T}(x_1[n]+x_2[n]) = \\mathrm{log}(x_1[n]+x_2[n]) \\neq \\mathrm{log}(x_1[n])+\\mathrm{log}(x_2[n])$$\n",
    "\n",
    "Thus, the system is **not additive**.  Overall the system is **non-linear**."
   ]
  },
  {
   "cell_type": "markdown",
   "metadata": {},
   "source": [
    "**(Q1-2)** $$y[n] = 6x[n+2]+4x[n+1]+2x[n]$$"
   ]
  },
  {
   "cell_type": "markdown",
   "metadata": {},
   "source": [
    "<!--\n",
    "If the system is homogeneous than \n",
    "\n",
    "$$y[n]=\\mathcal{T}(c x[n])= c\\mathcal{T}(x[n])$$\n",
    "\n",
    "Thus for $x_1[n]=c\\,x[n]$ we get\n",
    "\n",
    "$$y_1[n] = 6x_1[n+2]+4x_1[n+1]+2x_1[n] = c6x[n+2]+c4x[n+1]+c2x[n] = c(6x[n+2]+4x[n+1]+2x[n])=cy[n]$$.\n",
    "\n",
    "Thus, the system is **homogeneous**.\n",
    "\n",
    "To be additive, the response to $x[n] = x_1[n]+x_2[n]$ must be $y[n]=y_1[n]+y_2[n]$.  For this system we have\n",
    "\n",
    "$$\n",
    "\\begin{eqnarray}\n",
    "\\mathcal{T}(x_1[n]+x_2[n]) &=& 6(x_1[n+2]+x_2[n+2])+4(x_1[n+1]+x_2[n+1])+2(x_1[n]+x_2[n]) \\\\\n",
    "\\,  &=& \\left(6x_1[n+2]+4x_1[n+1]+2x_1[n]\\right)  + \\left(6x_2[n+2]+4x_2[n+1]+2x_2[n]\\right) \\\\\n",
    "\\,  &=& y_1[n] + y_2[n]\n",
    "\\end{eqnarray}\n",
    "$$\n",
    "Thus, the system is **additive**.  Overall, because the system is **additive and homogeneous** it is **linear**.\n",
    "-->"
   ]
  },
  {
   "cell_type": "markdown",
   "metadata": {},
   "source": [
    "**(Q1-3)** $$y[n] = 6x[n+2]+4x[n+1]+2x[n]+1$$"
   ]
  },
  {
   "cell_type": "markdown",
   "metadata": {},
   "source": [
    "<!--\n",
    "If the system is homogeneous than \n",
    "\n",
    "$$y[n]=\\mathcal{T}(c x[n])= c\\mathcal{T}(x[n])$$\n",
    "\n",
    "Thus for $x_1[n]=c\\,x[n]$ we get\n",
    "\n",
    "$$\n",
    "\\begin{eqnarray}\n",
    "y_1[n] &=& 6x_1[n+2]+4x_1[n+1]+2x_1[n]+1 \\\\\n",
    " &=&  c6x[n+2]+c4x[n+1]+c2x[n] +1 \\\\\n",
    "\\,&=& c(6x[n+2]+4x[n+1]+2x[n]) +1 \n",
    "\\end{eqnarray} \n",
    "$$.\n",
    "\n",
    "However,\n",
    "\n",
    "$$cy[n] = c(6x[n+2]+4x[n+1]+2x[n] +1)$$\n",
    "\n",
    "Thus, the system is **not homogeneous**.\n",
    "\n",
    "To be additive, the response to $x[n] = x_1[n]+x_2[n]$ must be $y[n]=y_1[n]+y_2[n]$.  For this system we have\n",
    "\n",
    "$$\n",
    "\\begin{eqnarray}\n",
    "\\mathcal{T}(x_1[n]+x_2[n]) &=& 6(x_1[n+2]+x_2[n+2])+4(x_1[n+1]+x_2[n+1])+2(x_1[n]+x_2[n]) +1 \\\\\n",
    "\\,  &=& \\left(6x_1[n+2]+4x_1[n+1]+2x_1[n]\\right)  + \\left(6x_2[n+2]+4x_2[n+1]+2x_2[n]\\right) +1 \\\\\n",
    "\\,  &\\neq& y_1[n] + y_2[n]\n",
    "\\end{eqnarray}\n",
    "$$\n",
    "Thus, the system is **not additive**.  Overall, because the system is **not additive and homogeneous** it is **not linear**.\n",
    "-->"
   ]
  },
  {
   "cell_type": "markdown",
   "metadata": {},
   "source": [
    "**(Q1-4)**  $$y[n] = \\mathrm{sin}\\left( \\frac{n\\pi}{2}\\right) x[n]$$"
   ]
  },
  {
   "cell_type": "markdown",
   "metadata": {},
   "source": [
    "<!--\n",
    "Let's examine homogeneity and additivity at the same time.  Let $y_1[n]$ and $y_2[n]$ the outputs to $x_1[n]$ and $x_2[n]$, respectively.  The response of the system to \n",
    "\n",
    "$$x[n] = a\\,x_1[n]+b\\,x_2[n]$$ \n",
    "\n",
    "is\n",
    "\n",
    "$$\n",
    "\\begin{eqnarray}\n",
    "y[n] &=& \\mathrm{sin}\\left( \\frac{n\\pi}{2}\\right) x[n] \\\\\n",
    "\\,   &=& \\mathrm{sin}\\left( \\frac{n\\pi}{2}\\right) \\left( a\\, x_1[n]+b\\, x_2[n]\\right)\\\\\n",
    "\\,   &=& \\mathrm{sin}\\left( \\frac{n\\pi}{2}\\right) a\\, x_1[n] + \\mathrm{sin}\\left( \\frac{n\\pi}{2}\\right)b x_2[n]\\\\\n",
    "\\,   &=&a\\,y_1[n] + b\\,y_2[n]\\\\\n",
    "\\end{eqnarray}\n",
    "$$\n",
    "\n",
    "Thus, this system is both **homogeneous** and **additive**, and is **linear**.\n",
    "-->"
   ]
  },
  {
   "cell_type": "markdown",
   "metadata": {},
   "source": [
    "## Time Invariance\n",
    "\n",
    "Determine which of the systems below are **shift-invariant**:\n",
    "\n",
    "**(Q2-1)** $$y[n]= x[n]+x[n-1]+x[n-2]$$"
   ]
  },
  {
   "cell_type": "markdown",
   "metadata": {},
   "source": [
    "**A:** Let $y[n]$ be the response of the system to an arbitrary input $x[n]$.  To test for shift invariance we want to compare the shifted response $y[n-n_0]$ to the shifted input $x[n-n_0]$. With\n",
    "\n",
    "$$y[n]= x[n]+x[n-1]+x[n-2]$$\n",
    "\n",
    "we have, for the shifted response\n",
    "\n",
    "$$y[n-n_0]= x[n-n_0]+x[n-1-n_0]+x[n-2-n_0]$$\n",
    "\n",
    "Now, the response of the system to $x_1[n] = x[n-n_0]$ is\n",
    "\n",
    "$$\n",
    "\\begin{eqnarray}\n",
    "y_1[n] &=& x_1[n]+x_1[n]+x_2[n] \\\\\n",
    "\\,     &=& x[n-n_0]+x_1[n-n_0]+x_2[n-n_0]\n",
    "\\end{eqnarray}\n",
    "$$\n",
    "\n",
    "Because $y_1[n] = y[n-n_0]$, the system is **time invariant**."
   ]
  },
  {
   "cell_type": "markdown",
   "metadata": {},
   "source": [
    "**(Q2-2)** $$ y[n] = \\sum_{k=-\\infty}^{n} x[k]$$"
   ]
  },
  {
   "cell_type": "markdown",
   "metadata": {},
   "source": [
    "<!--\n",
    "Let \n",
    "\n",
    "$$ y[n] = \\sum_{k=-\\infty}^{n} x[k]$$\n",
    "\n",
    "be the response to an arbitrary input $x[n]$.  The response of the system to the shifted input $x_1[n]=x[n-n_0]$ is\n",
    "\n",
    "$$y[n] = \\sum_{k=-\\infty}^{n} x[k] = \\sum_{k=-\\infty}^{n} x[k-n_0] = \\sum_{k=-\\infty}^{n-n_0} x[k]$$.\n",
    "\n",
    "Because this is equal to $y[n-n_0]$ the system is **time-invariant**.\n",
    "-->"
   ]
  },
  {
   "cell_type": "markdown",
   "metadata": {},
   "source": [
    "**(Q2-3)** $$y[n] = x[n^2] $$"
   ]
  },
  {
   "cell_type": "markdown",
   "metadata": {},
   "source": [
    "<!--\n",
    "The system is **not shift-invariant**, which may be demonstrated with a simple counterexample.  Note that if $x[n]=\\delta[n]$ then the response will be $y[n]=\\delta[n^2]=\\delta[n]$. However, if $x_1[n] = \\delta[n-2]$, then the response will be $y_1[n] = x_1[n^2] = \\delta[n^2-2]=0$, which is not equal to $y[n-2]$.  Thus, the system is **not time-invariant**.\n",
    "-->"
   ]
  },
  {
   "cell_type": "markdown",
   "metadata": {},
   "source": [
    "**(Q2-4)** $$y[n] = x(-n)$$"
   ]
  },
  {
   "cell_type": "markdown",
   "metadata": {},
   "source": [
    "<!--\n",
    "Let $x[n]$ be the input and $y[n]=x[-n]$ be the response. If we consider the shifted input $x_1[n] = x[n-n_0]$, we find that the response is \n",
    "\n",
    "$$y_1[n] = x_1[-n] = x[-n-n_0]$$.\n",
    "\n",
    "However, if we shift $y[n]$ by $n_0$ then we obtain\n",
    "\n",
    "$$y[n-n_0] = x[-(n-n_0)] = x[-n+n_0]$$\n",
    "\n",
    "which is not equal to $y_1[n]$.  Therefore, this system can be shown to be **not time-invariant**\n",
    "\n",
    "-->"
   ]
  },
  {
   "cell_type": "markdown",
   "metadata": {},
   "source": [
    "## Causal / Memory\n",
    "\n",
    "Determine which of the following systems are **causal**, and which have **memory**?\n",
    "\n",
    "**(Q3-1)** $$y[n] = x^2[n] u[n]$$"
   ]
  },
  {
   "cell_type": "markdown",
   "metadata": {},
   "source": [
    "The system $y[n]=x^2[n]u[n]$ is **memoryless** because the response of the system at time $n$ depends only on the input at time $n$ and no other values of the input.  Therefore, this system is **causal**."
   ]
  },
  {
   "cell_type": "markdown",
   "metadata": {},
   "source": [
    "**(Q3-2)** $$y[n] = x[|n|]$$"
   ]
  },
  {
   "cell_type": "markdown",
   "metadata": {},
   "source": [
    "<!--\n",
    "The output $y[n]=x[|n|]$ is an example of a non-causal system. This can be observed when looking at the repsonse of the system for $n<0$.  For example, for $n=-1$ we get $y[-1]=x[1]$.  Therefore the output of the system is dependent on a future input.  Therefore the system is **not causal** (and in fact **anticausal**).\n",
    "-->"
   ]
  },
  {
   "cell_type": "markdown",
   "metadata": {},
   "source": [
    "**(Q3-3)** $$ y[n] = x[n]+x[n-3]+x[n-1]$$"
   ]
  },
  {
   "cell_type": "markdown",
   "metadata": {},
   "source": [
    "<!--\n",
    "This system is **causal** because all of the input required to compute the response at $n$ are at or before $n$.\n",
    "-->"
   ]
  },
  {
   "cell_type": "markdown",
   "metadata": {},
   "source": [
    "**(Q3-4)** $$ y[n] = x[n] - x[n^2-n]$$"
   ]
  },
  {
   "cell_type": "markdown",
   "metadata": {},
   "source": [
    "<!--\n",
    "This system is **not causal**, which can be demonstrated by looking at $n<0$.  For example,  $y[-2]=x[-2]-x[2]$, which is clearly **non-causal**.\n",
    "-->"
   ]
  },
  {
   "cell_type": "markdown",
   "metadata": {},
   "source": [
    "## Stability\n",
    "\n",
    "Determine which of the following systems are **stable**:\n",
    "\n",
    "**(Q4-1)** $$y[n] = x^2[n]$$"
   ]
  },
  {
   "cell_type": "markdown",
   "metadata": {},
   "source": [
    "Supposed that $x[n]$ a bounded and finite input such that $|x[n]|<M$.  Then it follows that the output $y[n]=x^2[n]$ is also bounded and finite because:\n",
    "\n",
    "$$|y[n]|=|x^2[n]|<M^2.$$\n",
    "\n",
    "Therefore, this system is **stable**."
   ]
  },
  {
   "cell_type": "markdown",
   "metadata": {},
   "source": [
    "**(Q4-2)** $$ y[n] = \\frac{e^{-x[n]}}{x[n-1]}$$"
   ]
  },
  {
   "cell_type": "markdown",
   "metadata": {},
   "source": [
    "<!--\n",
    "This system is clearly **not stable**. For example, note that the response of the system to a unit impulse $x[n]=\\delta[n]$ is infinite for all values of $n$ except $n=1$. \n",
    "-->"
   ]
  },
  {
   "cell_type": "markdown",
   "metadata": {},
   "source": [
    "**(Q4-3)** $$ y[n] = \\mathrm{cos}(x[n])$$"
   ]
  },
  {
   "cell_type": "markdown",
   "metadata": {},
   "source": [
    "<!--\n",
    "For input $x[n]$, we find that the output response is bounded: $|y[n]| =|\\mathrm{cos}(x[n])| \\le 1$. Thus, the system is **stable**.\n",
    "-->"
   ]
  },
  {
   "cell_type": "markdown",
   "metadata": {},
   "source": [
    "**(Q4-4)** $$y[n] = \\sum_{k=-\\infty}^{n}x[k]$$"
   ]
  },
  {
   "cell_type": "markdown",
   "metadata": {},
   "source": [
    "<!--\n",
    "This system is a numerical integrator and is **not stable**.  For an example, assume that the input is the step function $x[n]=u[n]$.  Thus, \n",
    "\n",
    "$$y[n] = \\sum_{k=-\\infty}^{n}x[k] = \\sum_{k=-\\infty}^{n}u[k] = n+1$$\n",
    "\n",
    "Thus, even though the input is bounded, the output is not guaranteed to be bounded and thus the system is **not stable**.\n",
    "-->"
   ]
  }
 ],
 "metadata": {
  "kernelspec": {
   "display_name": "Python 3",
   "language": "python",
   "name": "python3"
  },
  "language_info": {
   "codemirror_mode": {
    "name": "ipython",
    "version": 3
   },
   "file_extension": ".py",
   "mimetype": "text/x-python",
   "name": "python",
   "nbconvert_exporter": "python",
   "pygments_lexer": "ipython3",
   "version": "3.6.5"
  }
 },
 "nbformat": 4,
 "nbformat_minor": 2
}
