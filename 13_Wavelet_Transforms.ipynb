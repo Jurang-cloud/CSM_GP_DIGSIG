{
 "cells": [
  {
   "cell_type": "code",
   "execution_count": 2,
   "metadata": {},
   "outputs": [
    {
     "data": {
      "text/html": [
       "<script>\n",
       "code_show=true; \n",
       "function code_toggle() {\n",
       " if (code_show){\n",
       " $('div.input').hide();\n",
       " } else {\n",
       " $('div.input').show();\n",
       " }\n",
       " code_show = !code_show\n",
       "} \n",
       "$( document ).ready(code_toggle);\n",
       "</script>\n",
       "The raw code for this Jupyter notebook is by default hidden for easier reading.\n",
       "To toggle on/off the raw code, click <a href=\"javascript:code_toggle()\">here</a>.\n",
       "<style>\n",
       ".output_png {\n",
       "    display: table-cell;\n",
       "    text-align: center;\n",
       "    vertical-align: middle;\n",
       "}\n",
       "</style>\n"
      ],
      "text/plain": [
       "<IPython.core.display.HTML object>"
      ]
     },
     "execution_count": 2,
     "metadata": {},
     "output_type": "execute_result"
    }
   ],
   "source": [
    "import numpy as np\n",
    "import matplotlib.pyplot as plt\n",
    "import math as m\n",
    "from IPython.display import HTML,IFrame\n",
    "\n",
    "from scipy.io import wavfile\n",
    "from scipy.ndimage import filters\n",
    "from scipy import ndimage\n",
    "from scipy import signal\n",
    "\n",
    "import warnings\n",
    "warnings.filterwarnings('ignore')\n",
    "\n",
    "# . . Section for general function definitions\n",
    "def label(s1,s2,s3):\n",
    "    plt.xlabel(s1,size=16); plt.ylabel(s2,size=16);plt.title(s3,size=20);\n",
    "\n",
    "HTML('''<script>\n",
    "code_show=true; \n",
    "function code_toggle() {\n",
    " if (code_show){\n",
    " $('div.input').hide();\n",
    " } else {\n",
    " $('div.input').show();\n",
    " }\n",
    " code_show = !code_show\n",
    "} \n",
    "$( document ).ready(code_toggle);\n",
    "</script>\n",
    "The raw code for this Jupyter notebook is by default hidden for easier reading.\n",
    "To toggle on/off the raw code, click <a href=\"javascript:code_toggle()\">here</a>.\n",
    "<style>\n",
    ".output_png {\n",
    "    display: table-cell;\n",
    "    text-align: center;\n",
    "    vertical-align: middle;\n",
    "}\n",
    "</style>\n",
    "''')"
   ]
  },
  {
   "cell_type": "markdown",
   "metadata": {},
   "source": [
    "![title](data/TITLE.png)"
   ]
  },
  {
   "cell_type": "markdown",
   "metadata": {},
   "source": [
    "### <h1><center>Module 13: Wavelet Transforms and Their Applications </center></h1>\n",
    "\n",
    "The purpose of this section is for you to get experience in looking at how the spectral content can change in datasets represented by long time series.  So far we have looked at how the Fourier Transform can be applied to look at the spectral content. However, the Fourier Transform is a **global** operation that cannot distinguish how the frequency content varies within a signal.  Examples of the global nature are evident when one thinks about the following Fourier transform pair:\n",
    "\n",
    "$$\\delta(t-t_0) \\leftrightarrow e^{i\\omega t_0} \\tag{1a}$$\n",
    "\n",
    "and \n",
    "\n",
    "$$\\cos (\\omega_0 t) + i\\sin(\\omega_0 t) \\leftrightarrow \\delta(\\omega-\\omega_0) \\tag{1b}$$\n",
    "\n",
    "In equation 1a, a $\\delta$-function spike at one moment in time affects everywhere in the frequency domain.  In equation 1b, a $\\delta$-function spike at one frequency has an effect everywhere in the time domain.  Of course, we have looked at other less extreme examples where the effects are more restricted in the time and frequency domains.  For example, the Fourier transform of Gaussian function in the time domain is a Gaussian function in the frequency domain.\n",
    "\n",
    "One of the underlying assumptions when applying a Fourier Transform is that the signals are **stationary**.  Playing a bit fast and loose with nomenclature, this means that if you have a signal $f(t)$ with Fourier Transform $\\widehat{F}(\\omega)$, then one assumes that the spectral components do not evolve over a longer time-scale $\\tau$:\n",
    "\n",
    "$$\\frac{d \\widehat{F}}{d\\tau} = 0 \\tag{1c}$$\n",
    "\n",
    "However, we are all familiar with scenarios around us when transient phenomena is audible (e.g., a passing train) and we know that the frequency structure is changing as a function of time.  Does this mean that equation 1c does not hold?\n",
    "\n",
    "$$\\frac{d \\widehat{F}}{d\\tau} \\neq 0 \\tag{1d}??$$\n",
    "\n",
    "How do we obtain more information about how the signal is evolving? Clearly, we need to think about moving from a **global** transform to one that is more **local**. While this might not make sense with the analytic Fourier Transform defined between $-\\infty$ and $\\infty$, one might feel intuitively that this can be done with the discrete Fourier Transform (DFT) because this operation is applied to a sequence of numbers without any requirement of $-\\infty$ and $\\infty$!"
   ]
  },
  {
   "cell_type": "code",
   "execution_count": null,
   "metadata": {},
   "outputs": [],
   "source": []
  }
 ],
 "metadata": {
  "kernelspec": {
   "display_name": "Python 3",
   "language": "python",
   "name": "python3"
  },
  "language_info": {
   "codemirror_mode": {
    "name": "ipython",
    "version": 3
   },
   "file_extension": ".py",
   "mimetype": "text/x-python",
   "name": "python",
   "nbconvert_exporter": "python",
   "pygments_lexer": "ipython3",
   "version": "3.7.6"
  }
 },
 "nbformat": 4,
 "nbformat_minor": 2
}
